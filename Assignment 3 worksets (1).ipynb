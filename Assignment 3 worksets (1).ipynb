{
 "cells": [
  {
   "cell_type": "markdown",
   "id": "64cdaba8",
   "metadata": {},
   "source": [
    "## Q1"
   ]
  },
  {
   "cell_type": "code",
   "execution_count": 44,
   "id": "6bae827b",
   "metadata": {},
   "outputs": [
    {
     "name": "stdout",
     "output_type": "stream",
     "text": [
      "Requirement already satisfied: selenium in c:\\users\\administrator\\anaconda3\\lib\\site-packages (4.6.0)\n",
      "Requirement already satisfied: certifi>=2021.10.8 in c:\\users\\administrator\\anaconda3\\lib\\site-packages (from selenium) (2021.10.8)\n",
      "Requirement already satisfied: urllib3[socks]~=1.26 in c:\\users\\administrator\\anaconda3\\lib\\site-packages (from selenium) (1.26.9)\n",
      "Requirement already satisfied: trio-websocket~=0.9 in c:\\users\\administrator\\anaconda3\\lib\\site-packages (from selenium) (0.9.2)\n",
      "Requirement already satisfied: trio~=0.17 in c:\\users\\administrator\\anaconda3\\lib\\site-packages (from selenium) (0.22.0)\n",
      "Requirement already satisfied: sniffio in c:\\users\\administrator\\anaconda3\\lib\\site-packages (from trio~=0.17->selenium) (1.2.0)\n",
      "Requirement already satisfied: idna in c:\\users\\administrator\\anaconda3\\lib\\site-packages (from trio~=0.17->selenium) (3.3)\n",
      "Requirement already satisfied: cffi>=1.14 in c:\\users\\administrator\\anaconda3\\lib\\site-packages (from trio~=0.17->selenium) (1.15.0)\n",
      "Requirement already satisfied: exceptiongroup>=1.0.0rc9 in c:\\users\\administrator\\anaconda3\\lib\\site-packages (from trio~=0.17->selenium) (1.0.1)\n",
      "Requirement already satisfied: sortedcontainers in c:\\users\\administrator\\anaconda3\\lib\\site-packages (from trio~=0.17->selenium) (2.4.0)\n",
      "Requirement already satisfied: outcome in c:\\users\\administrator\\anaconda3\\lib\\site-packages (from trio~=0.17->selenium) (1.2.0)\n",
      "Requirement already satisfied: attrs>=19.2.0 in c:\\users\\administrator\\anaconda3\\lib\\site-packages (from trio~=0.17->selenium) (21.4.0)\n",
      "Requirement already satisfied: async-generator>=1.9 in c:\\users\\administrator\\anaconda3\\lib\\site-packages (from trio~=0.17->selenium) (1.10)\n",
      "Requirement already satisfied: pycparser in c:\\users\\administrator\\anaconda3\\lib\\site-packages (from cffi>=1.14->trio~=0.17->selenium) (2.21)\n",
      "Requirement already satisfied: wsproto>=0.14 in c:\\users\\administrator\\anaconda3\\lib\\site-packages (from trio-websocket~=0.9->selenium) (1.2.0)\n",
      "Requirement already satisfied: PySocks!=1.5.7,<2.0,>=1.5.6 in c:\\users\\administrator\\anaconda3\\lib\\site-packages (from urllib3[socks]~=1.26->selenium) (1.7.1)\n",
      "Requirement already satisfied: h11<1,>=0.9.0 in c:\\users\\administrator\\anaconda3\\lib\\site-packages (from wsproto>=0.14->trio-websocket~=0.9->selenium) (0.14.0)\n"
     ]
    }
   ],
   "source": [
    "!pip install selenium"
   ]
  },
  {
   "cell_type": "code",
   "execution_count": 45,
   "id": "6c9ddfb8",
   "metadata": {},
   "outputs": [],
   "source": [
    "import selenium\n",
    "from selenium import webdriver\n",
    "import pandas as pd\n",
    "from selenium.webdriver.common.by import By\n",
    "import warnings\n",
    "warnings.filterwarnings(\"ignore\")\n",
    "import time"
   ]
  },
  {
   "cell_type": "code",
   "execution_count": 46,
   "id": "e5881084",
   "metadata": {},
   "outputs": [],
   "source": [
    "driver = webdriver.Chrome(r'C:\\Users\\Administrator\\Downloads\\chromedriver_win32.zip\\chromedriver.exe')\n"
   ]
  },
  {
   "cell_type": "code",
   "execution_count": 47,
   "id": "86940576",
   "metadata": {},
   "outputs": [],
   "source": [
    "driver.maximize_window()"
   ]
  },
  {
   "cell_type": "code",
   "execution_count": 48,
   "id": "9b9f749e",
   "metadata": {},
   "outputs": [],
   "source": [
    "URL = 'https://www.amazon.in/'\n",
    "driver.get(URL)"
   ]
  },
  {
   "cell_type": "code",
   "execution_count": 49,
   "id": "06dcdf28",
   "metadata": {},
   "outputs": [],
   "source": [
    "search_btn = driver.find_element(By.XPATH,'/html/body/div[1]/header/div/div[1]/div[2]/div/form/div[2]/div[1]/input')\n",
    "search_btn.send_keys(\"hand watch\")\n",
    "                                 "
   ]
  },
  {
   "cell_type": "code",
   "execution_count": 50,
   "id": "2c3afef3",
   "metadata": {},
   "outputs": [],
   "source": [
    "search_btn = driver.find_element(By.XPATH,'/html/body/div[1]/header/div/div[1]/div[2]/div/form/div[3]/div/span/input')\n",
    "search_btn.click()"
   ]
  },
  {
   "cell_type": "markdown",
   "id": "dafb17ce",
   "metadata": {},
   "source": [
    "## Q2"
   ]
  },
  {
   "cell_type": "code",
   "execution_count": 87,
   "id": "3934acb1",
   "metadata": {},
   "outputs": [
    {
     "data": {
      "text/plain": [
       "['DOUBLERUN',\n",
       " 'Doublerun',\n",
       " 'SWADESI STUFF',\n",
       " 'DOUBLERUN',\n",
       " 'PTron',\n",
       " 'Fastrack',\n",
       " 'SELLORIA',\n",
       " 'Noise',\n",
       " 'MMOBIEL',\n",
       " 'SKMEI',\n",
       " 'TIMEWEAR',\n",
       " 'Espoir',\n",
       " 'ASGARD',\n",
       " 'SF',\n",
       " 'HeartInk',\n",
       " 'HEMT',\n",
       " 'Fastrack',\n",
       " 'ExcluZiva Gallery',\n",
       " 'TIMEX',\n",
       " 'Dobariya Enterprise',\n",
       " 'Emartos',\n",
       " 'TIMEWEAR',\n",
       " 'Emartos',\n",
       " 'FORSINING',\n",
       " 'Sonata',\n",
       " 'SHOPTOSHOP',\n",
       " 'Acnos',\n",
       " 'Acnos',\n",
       " 'TIMEWEAR',\n",
       " 'PIRASO',\n",
       " 'VILLS LAURRENS',\n",
       " 'Titan',\n",
       " 'YOUTH CLUB',\n",
       " 'hamt',\n",
       " 'FROZIL',\n",
       " 'REDUX',\n",
       " 'Titan',\n",
       " 'Sonata',\n",
       " 'PIRASO',\n",
       " 'ZEBRONICS',\n",
       " 'LOUIS DEVIN',\n",
       " 'ASGARD',\n",
       " 'SDF',\n",
       " 'Titan',\n",
       " 'Fastrack',\n",
       " 'Tiyona',\n",
       " 'CERO',\n",
       " 'DAINTY',\n",
       " 'Decode',\n",
       " 'HEMT']"
      ]
     },
     "execution_count": 87,
     "metadata": {},
     "output_type": "execute_result"
    }
   ],
   "source": [
    "brand_name = []\n",
    "name_tags = driver.find_elements(By.XPATH,\"//span[@class='a-size-base-plus a-color-base']\")\n",
    "for i in name_tags[0:50]: \n",
    "    brand_name.append(i.text)\n",
    "\n",
    "\n",
    "brand_name        "
   ]
  },
  {
   "cell_type": "code",
   "execution_count": 88,
   "id": "6b11f926",
   "metadata": {},
   "outputs": [
    {
     "data": {
      "text/plain": [
       "50"
      ]
     },
     "execution_count": 88,
     "metadata": {},
     "output_type": "execute_result"
    }
   ],
   "source": [
    "len(brand_name)"
   ]
  },
  {
   "cell_type": "code",
   "execution_count": 89,
   "id": "dbc1c841",
   "metadata": {},
   "outputs": [
    {
     "data": {
      "text/plain": [
       "['9001_3D Glass Date Display Dial Chain Belt Analog Watch - for Men',\n",
       " 'DD4_8017 3D Glass Date Display White Dial Analog Watch - for Men',\n",
       " \"Analogue Boy's & Girl's Watch (Multicolored Dial & Strap)\",\n",
       " '9017_3D Glass Date Display Dial Leather Belt Analog Watch - for Men',\n",
       " 'PTron Newly Launched Force X10 Bluetooth Calling Smartwatch with 1.7\" Full Touch Color Display, Real Heart Rate Monitor, SpO2, Watch Faces, 5 Days Runtime, Fitness Trackers & IP68 Waterproof (Blue)',\n",
       " \"Analog Dial Women's Watch\",\n",
       " 'S Shock Digital Kids Watch for Boys [7-30 Years]',\n",
       " 'Noise ColorFit Pulse Spo2 Smart Watch with 10 days battery life, 60+ Watch Faces, 1.4\" Full Touch HD Display Smartwatch, 24*7 Heart Rate Monitor Smart Band, Sleep Monitoring Smart Watches for Men and Women & IP68 Waterproof (Jet Black)',\n",
       " 'Watch Tool Stainless Steel Handle Compatible with Adjustment Replacing Removal of Spring bar Straps Pins 7pcs',\n",
       " 'Simple Digital Men’s Military Watches Waterproof Electronic LED Double Time Black Wristwatch Sport',\n",
       " 'Analog Day Date Functioning Golden Case Brown Strap Watch for Men',\n",
       " 'Stainless Steel Day and Date Blue Dial Analog Mens Watch Sam0507',\n",
       " \"Multi Functional Sports Digital Multicolor Dial Men's Watch\",\n",
       " \"Sporty Analog Black Dial Men's Watch-NL7930PP01/NP7930PP01\",\n",
       " 'BTS Bangtan Boys Theme Fan Art Made Hand Analog Quartz Movement Wrist Watch Stainless Steel & Leather Strap for Boys and Girls - WATCHINKBTS01',\n",
       " 'Gold Dial Day n Date Display Analog Wrist Watch HM-GR095-GLD-SLV',\n",
       " 'Reflex 3.0 Unisex Activity Tracker - Full Touch, Color Display, Heart Rate Monitor, Dual- Tone Silicone Strap and up to 10 Days Battery Life',\n",
       " 'ExcluZiva Gallery Kids Barbie Princess Theme Light Glowing 24 Images Projector Smart Digital Hand Watch Girls Toy Figure Wrist Watch Dial Action Figure Pictures Projecting',\n",
       " \"Analog Beige Dial Men's Watch-TW000U930\",\n",
       " \"Dobariya Enterprise's Hand Gesture Remote Control Stunt Car Twisting Off-Road Vehicle Light Hand Sensor Watch Sensor Toy RC Stunt Car Plastic Large Multi Color (1 pc Set)\",\n",
       " \"Analogue Black Dial Arrow Watch For Men's And Boy's (Pack Of 2)\",\n",
       " 'Analog Two Hands Leather Strap Slim Watch for Men',\n",
       " \"Black and White dial Digital & Analogue Boy's & Girl's Watch\",\n",
       " \"Automatic Mechanical Diamond Multifunctional Duel Tone Steel Band Men's Watch - FSG6919\",\n",
       " \"Steel Daisies Analog Silver Dial Women's Watch NL8151SL01/NN8151SL01/NP8151SL01\",\n",
       " 'Smart Band Bluetooth Health Wrist Smart Band Monitor Smart Health for Men & Women Activity Fitness Tracker',\n",
       " \"Brand - Analogue Men's Watch (Black Dial Multi Colored Strap) (1.Gold)\",\n",
       " 'Black Dial Combo Analogue Watches for Men Pack of - 2 (LR01-MINO)',\n",
       " 'Analog Minute Track Dial Stainless Steel Chain Watch for Men',\n",
       " 'Analog Day and Date Working Black DIAL Silver Chain Watch for Men & Boys',\n",
       " 'VL-8009 All Black Metal Strap with Two Tone Water Resistant Quartz Boys Premium Metal Series Analog Watch - for Men',\n",
       " \"Analog Champagne Dial Stainless Steel Strap Men's Watch - 1650YM06\",\n",
       " 'DG-1257, Black Color New Trending Full Black Round Waterproof, Sporty Looking Watch for Boys',\n",
       " \"Analogue Men's Watch (Gold Dial Gold Colored Strap)-Series\",\n",
       " 'Analog and Digital Round Square Multi Dial Combo of 2 Watches Army Belt Sports Multi Functional Watch for Boys and Watch for Mens Pack of 2',\n",
       " \"RWS0202S Analogue Blue & Grey Dial Men's & Boy's Watch\",\n",
       " \"Ladies Neo-Ii Analog Black Dial Women's Watch-NL2480SM08\",\n",
       " \"Analog White Dial Men's Watch-NL77049YM03/NP77049YM03\",\n",
       " 'Analog Day and Date Working DIAL Silver Chain Watch for Men & Boys',\n",
       " 'Zebronics DRIP Smart Watch with Bluetooth Calling, 4.3cm (1.69\"), 10 built-in & 100+ Watch Faces, 100+ Sport Modes, 4 built-in Games, Voice Assistant, 8 Menu UI, Fitness Health & Sleep Tracker (Black)',\n",
       " \"Men's Watch (Silver Colored Strap)\",\n",
       " \"Multi Functional Sports Digital Dial Men's Watch\",\n",
       " 'Outdoor & Indoor Flying Watch Helicopter with Hand Induction Watch | Electronic Radio RC Remote Control Toy | USB Charging Helicopter with 3D Light & Safety Sensor for Kids(Multi Color).',\n",
       " \"Neo Analog Silver Dial Men's Watch-NL1767SL01/NP1767SL01\",\n",
       " 'Fastrack Reflex 2C Unisex Activity Tracker - Full Touch, Color Display,Notification Alert - Upto 7 Days Battery Life -SWD90059PP09',\n",
       " 'Analogue Black Dial Basics Wrist Watch for Men - IIK Full BK Men',\n",
       " \"Analogue Black Dial Metal Strap and King Bracelet Combo Watch for Men & Boys's\",\n",
       " \"DAINTYSH-079 Sport Watch Rubber Strap Tees Boy's Analog Men's Watch (Black)\",\n",
       " \"Analogue Men's Watch (Black Dial Black Colored Strap)\",\n",
       " \"Analog Black Dial Men's Watch-HM-GR092-BLK-CH\"]"
      ]
     },
     "execution_count": 89,
     "metadata": {},
     "output_type": "execute_result"
    }
   ],
   "source": [
    "product_names = []\n",
    "product_tags = driver.find_elements(By.XPATH,\"//span[@class='a-size-base-plus a-color-base a-text-normal']\")\n",
    "for i in product_tags[0:50]:\n",
    "    product_names.append(i.text)\n",
    "    \n",
    "product_names "
   ]
  },
  {
   "cell_type": "code",
   "execution_count": 90,
   "id": "963068ab",
   "metadata": {},
   "outputs": [
    {
     "data": {
      "text/plain": [
       "50"
      ]
     },
     "execution_count": 90,
     "metadata": {},
     "output_type": "execute_result"
    }
   ],
   "source": [
    "len(product_names)"
   ]
  },
  {
   "cell_type": "code",
   "execution_count": 91,
   "id": "fb1f3e28",
   "metadata": {},
   "outputs": [
    {
     "data": {
      "text/plain": [
       "['1,099',\n",
       " '999',\n",
       " '599',\n",
       " '499',\n",
       " '389',\n",
       " '189',\n",
       " '399',\n",
       " '1,499',\n",
       " '1,485',\n",
       " '219',\n",
       " '1,799',\n",
       " '349',\n",
       " '799',\n",
       " '339',\n",
       " '249',\n",
       " '275',\n",
       " '625',\n",
       " '499',\n",
       " '389',\n",
       " '2,295',\n",
       " '299',\n",
       " '1,886',\n",
       " '507',\n",
       " '379',\n",
       " '369',\n",
       " '4,594',\n",
       " '1,199',\n",
       " '499',\n",
       " '294',\n",
       " '304',\n",
       " '309',\n",
       " '419',\n",
       " '349',\n",
       " '2,396',\n",
       " '370',\n",
       " '379',\n",
       " '380',\n",
       " '315',\n",
       " '2,995',\n",
       " '849',\n",
       " '399',\n",
       " '1,799',\n",
       " '359',\n",
       " '299',\n",
       " '999',\n",
       " '3,795',\n",
       " '1,349',\n",
       " '299',\n",
       " '299',\n",
       " '159']"
      ]
     },
     "execution_count": 91,
     "metadata": {},
     "output_type": "execute_result"
    }
   ],
   "source": [
    "price = []\n",
    "price_total = driver.find_elements(By.XPATH,\"//span[@class='a-price-whole']\")\n",
    "for i in price_total[0:50]:\n",
    "    price.append(i.text)\n",
    "    \n",
    "    \n",
    "price "
   ]
  },
  {
   "cell_type": "code",
   "execution_count": 92,
   "id": "e8b9f377",
   "metadata": {},
   "outputs": [
    {
     "data": {
      "text/plain": [
       "50"
      ]
     },
     "execution_count": 92,
     "metadata": {},
     "output_type": "execute_result"
    }
   ],
   "source": [
    "len(price)"
   ]
  },
  {
   "cell_type": "code",
   "execution_count": 93,
   "id": "9696450d",
   "metadata": {},
   "outputs": [
    {
     "data": {
      "text/plain": [
       "['Tuesday, December 6',\n",
       " 'Tuesday, December 6',\n",
       " 'Monday, December 5',\n",
       " 'Tuesday, December 6',\n",
       " 'tomorrow, December 2',\n",
       " 'Saturday, December 3',\n",
       " 'Tuesday, December 6',\n",
       " 'tomorrow, December 2',\n",
       " 'tomorrow, December 2',\n",
       " 'Saturday, December 3',\n",
       " 'tomorrow, December 2',\n",
       " 'Saturday, December 3',\n",
       " 'Saturday, December 3',\n",
       " 'Tuesday, December 6',\n",
       " 'Saturday, December 3',\n",
       " 'Saturday, December 3',\n",
       " 'Sunday, December 4',\n",
       " 'tomorrow, December 2',\n",
       " 'tomorrow, December 2',\n",
       " 'tomorrow, December 2',\n",
       " 'Saturday, December 3',\n",
       " 'Saturday, December 3',\n",
       " 'tomorrow, December 2',\n",
       " 'Saturday, December 3',\n",
       " 'Saturday, December 3',\n",
       " 'tomorrow, December 2',\n",
       " 'tomorrow, December 2',\n",
       " 'Saturday, December 3',\n",
       " 'Saturday, December 3',\n",
       " 'tomorrow, December 2',\n",
       " 'Saturday, December 3',\n",
       " 'Saturday, December 3',\n",
       " 'Tuesday, December 6',\n",
       " 'Saturday, December 3',\n",
       " 'Saturday, December 3',\n",
       " 'Saturday, December 3',\n",
       " 'Saturday, December 3',\n",
       " 'tomorrow, December 2',\n",
       " 'Saturday, December 3',\n",
       " 'Saturday, December 3',\n",
       " 'Thursday, December 8',\n",
       " 'Monday, December 12',\n",
       " 'tomorrow, December 2',\n",
       " 'tomorrow, December 2',\n",
       " 'Tuesday, December 6',\n",
       " 'Tuesday, December 6',\n",
       " 'Tuesday, December 6',\n",
       " 'Saturday, December 3',\n",
       " 'Saturday, December 3',\n",
       " 'tomorrow, December 2']"
      ]
     },
     "execution_count": 93,
     "metadata": {},
     "output_type": "execute_result"
    }
   ],
   "source": [
    "expect_delvy = []\n",
    "delvy_expect = driver.find_elements(By.XPATH,\"//span[@class='a-color-base a-text-bold']\")\n",
    "for i in delvy_expect[0:50]:\n",
    "    expect_delvy.append(i.text)\n",
    "    \n",
    "expect_delvy "
   ]
  },
  {
   "cell_type": "code",
   "execution_count": 94,
   "id": "1f9180b9",
   "metadata": {},
   "outputs": [
    {
     "data": {
      "text/plain": [
       "50"
      ]
     },
     "execution_count": 94,
     "metadata": {},
     "output_type": "execute_result"
    }
   ],
   "source": [
    "len(expect_delvy)"
   ]
  },
  {
   "cell_type": "code",
   "execution_count": 96,
   "id": "44f0fcf7",
   "metadata": {},
   "outputs": [
    {
     "name": "stdout",
     "output_type": "stream",
     "text": [
      "https://www.amazon.in/sspa/click?ie=UTF8&spc=MTo4NzM5NjA0OTI3MDY4MjMzOjE2Njk5MTU0MTk6c3BfYXRmX25leHQ6MjAwNjMzODc5NjM3OTg6OjA6Og&url=%2FDOUBLERUN-9001_3D-Glass-Display-Analog%2Fdp%2FB0B7G5FZJZ%2Fref%3Dsr_1_97_sspa%3Fcrid%3D2L82B3VTUKW92%26keywords%3Dhand%2Bwatch%26qid%3D1669915419%26qu%3DeyJxc2MiOiI3LjM3IiwicXNhIjoiNy4yMiIsInFzcCI6IjUuNzkifQ%253D%253D%26sprefix%3Dhand%2Bwatch%252Caps%252C612%26sr%3D8-97-spons%26sp_csd%3Dd2lkZ2V0TmFtZT1zcF9hdGZfbmV4dA%26psc%3D1\n",
      "https://www.amazon.in/sspa/click?ie=UTF8&spc=MTo4NzM5NjA0OTI3MDY4MjMzOjE2Njk5MTU0MTk6c3BfYXRmX25leHQ6MjAwNTM5OTUyNzc2OTg6OjA6Og&url=%2FDoublerun-DD4_8017-Glass-Display-Analog%2Fdp%2FB0B3QY83HC%2Fref%3Dsr_1_98_sspa%3Fcrid%3D2L82B3VTUKW92%26keywords%3Dhand%2Bwatch%26qid%3D1669915419%26qu%3DeyJxc2MiOiI3LjM3IiwicXNhIjoiNy4yMiIsInFzcCI6IjUuNzkifQ%253D%253D%26sprefix%3Dhand%2Bwatch%252Caps%252C612%26sr%3D8-98-spons%26sp_csd%3Dd2lkZ2V0TmFtZT1zcF9hdGZfbmV4dA%26psc%3D1\n",
      "https://www.amazon.in/sspa/click?ie=UTF8&spc=MTo4NzM5NjA0OTI3MDY4MjMzOjE2Njk5MTU0MTk6c3BfYXRmX25leHQ6MjAwNzM5MzM5NzMxMDM6OjA6Og&url=%2FSwadesi-Stuff-Analogue-Watch-Girls%2Fdp%2FB085W2312Y%2Fref%3Dsr_1_99_sspa%3Fcrid%3D2L82B3VTUKW92%26keywords%3Dhand%2Bwatch%26qid%3D1669915419%26qu%3DeyJxc2MiOiI3LjM3IiwicXNhIjoiNy4yMiIsInFzcCI6IjUuNzkifQ%253D%253D%26sprefix%3Dhand%2Bwatch%252Caps%252C612%26sr%3D8-99-spons%26sp_csd%3Dd2lkZ2V0TmFtZT1zcF9hdGZfbmV4dA%26psc%3D1\n",
      "https://www.amazon.in/sspa/click?ie=UTF8&spc=MTo4NzM5NjA0OTI3MDY4MjMzOjE2Njk5MTU0MTk6c3BfYXRmX25leHQ6MjAwNjQ3Mjg5MDk4OTg6OjA6Og&url=%2FDOUBLERUN-9017_3D-Display-Leather-Analog%2Fdp%2FB0B84V114N%2Fref%3Dsr_1_100_sspa%3Fcrid%3D2L82B3VTUKW92%26keywords%3Dhand%2Bwatch%26qid%3D1669915419%26qu%3DeyJxc2MiOiI3LjM3IiwicXNhIjoiNy4yMiIsInFzcCI6IjUuNzkifQ%253D%253D%26sprefix%3Dhand%2Bwatch%252Caps%252C612%26sr%3D8-100-spons%26sp_csd%3Dd2lkZ2V0TmFtZT1zcF9hdGZfbmV4dA%26psc%3D1\n",
      "https://www.amazon.in/PTron-Force-Bluetooth-Smartwatch-Waterproof/dp/B0B53QLB9H/ref=sr_1_101?crid=2L82B3VTUKW92&keywords=hand+watch&qid=1669915419&qu=eyJxc2MiOiI3LjM3IiwicXNhIjoiNy4yMiIsInFzcCI6IjUuNzkifQ%3D%3D&sprefix=hand+watch%2Caps%2C612&sr=8-101\n",
      "https://www.amazon.in/Fastrack-Analog-Blue-Womens-Watch/dp/B093CF8VJD/ref=sr_1_102?crid=2L82B3VTUKW92&keywords=hand+watch&qid=1669915419&qu=eyJxc2MiOiI3LjM3IiwicXNhIjoiNy4yMiIsInFzcCI6IjUuNzkifQ%3D%3D&sprefix=hand+watch%2Caps%2C612&sr=8-102\n",
      "https://www.amazon.in/SELLORIA-Shock-Digital-Watch-Years/dp/B08X6LNL9Z/ref=sr_1_103?crid=2L82B3VTUKW92&keywords=hand+watch&qid=1669915419&qu=eyJxc2MiOiI3LjM3IiwicXNhIjoiNy4yMiIsInFzcCI6IjUuNzkifQ%3D%3D&sprefix=hand+watch%2Caps%2C612&sr=8-103\n",
      "https://www.amazon.in/Noise-ColorFit-Smartwatch-Monitoring-Waterproof/dp/B097R25DP7/ref=sr_1_104?crid=2L82B3VTUKW92&keywords=hand+watch&qid=1669915419&qu=eyJxc2MiOiI3LjM3IiwicXNhIjoiNy4yMiIsInFzcCI6IjUuNzkifQ%3D%3D&sprefix=hand+watch%2Caps%2C612&sr=8-104\n",
      "https://www.amazon.in/MMOBIEL-Stainless-Adjustment-Replacing-Removal/dp/B06ZYWJPC6/ref=sr_1_105?crid=2L82B3VTUKW92&keywords=hand+watch&qid=1669915419&qu=eyJxc2MiOiI3LjM3IiwicXNhIjoiNy4yMiIsInFzcCI6IjUuNzkifQ%3D%3D&sprefix=hand+watch%2Caps%2C612&sr=8-105\n",
      "https://www.amazon.in/SKMEI-Digital-Black-Watch-1257-Blue/dp/B078J8FTGZ/ref=sr_1_106?crid=2L82B3VTUKW92&keywords=hand+watch&qid=1669915419&qu=eyJxc2MiOiI3LjM3IiwicXNhIjoiNy4yMiIsInFzcCI6IjUuNzkifQ%3D%3D&sprefix=hand+watch%2Caps%2C612&sr=8-106\n",
      "https://www.amazon.in/TIMEWEAR-Functioning-Brown-Strap-Golden/dp/B07RC9HWH8/ref=sr_1_107?crid=2L82B3VTUKW92&keywords=hand+watch&qid=1669915419&qu=eyJxc2MiOiI3LjM3IiwicXNhIjoiNy4yMiIsInFzcCI6IjUuNzkifQ%3D%3D&sprefix=hand+watch%2Caps%2C612&sr=8-107\n",
      "https://www.amazon.in/Espoir-Analog-Blue-Dial-Watch-ESP786000/dp/B077QYM2MX/ref=sr_1_108?crid=2L82B3VTUKW92&keywords=hand+watch&qid=1669915419&qu=eyJxc2MiOiI3LjM3IiwicXNhIjoiNy4yMiIsInFzcCI6IjUuNzkifQ%3D%3D&sprefix=hand+watch%2Caps%2C612&sr=8-108\n",
      "https://www.amazon.in/ASGARD-Functional-Sports-Digital-Colored/dp/B09RXSBNCL/ref=sr_1_109?crid=2L82B3VTUKW92&keywords=hand+watch&qid=1669915419&qu=eyJxc2MiOiI3LjM3IiwicXNhIjoiNy4yMiIsInFzcCI6IjUuNzkifQ%3D%3D&sprefix=hand+watch%2Caps%2C612&sr=8-109\n",
      "https://www.amazon.in/Sonata-Super-Fibre-Analog-Watch-NH7930PP01C/dp/B00ECWG1NC/ref=sr_1_110?crid=2L82B3VTUKW92&keywords=hand+watch&qid=1669915419&qu=eyJxc2MiOiI3LjM3IiwicXNhIjoiNy4yMiIsInFzcCI6IjUuNzkifQ%3D%3D&sprefix=hand+watch%2Caps%2C612&sr=8-110\n",
      "https://www.amazon.in/Heartink-Bangtan-Movement-Stainless-Leather/dp/B0BDZ72GQC/ref=sr_1_111?crid=2L82B3VTUKW92&keywords=hand+watch&qid=1669915419&qu=eyJxc2MiOiI3LjM3IiwicXNhIjoiNy4yMiIsInFzcCI6IjUuNzkifQ%3D%3D&sprefix=hand+watch%2Caps%2C612&sr=8-111\n",
      "https://www.amazon.in/HEMT-Display-Analog-Wrist-HM-GR095-GLD-SLV/dp/B07MSH9MJH/ref=sr_1_112?crid=2L82B3VTUKW92&keywords=hand+watch&qid=1669915419&qu=eyJxc2MiOiI3LjM3IiwicXNhIjoiNy4yMiIsInFzcCI6IjUuNzkifQ%3D%3D&sprefix=hand+watch%2Caps%2C612&sr=8-112\n",
      "https://www.amazon.in/Fastrack-Reflex-Digital-Unisex-Adult-Watch-SWD90067PP03A/dp/B08W29ZW6S/ref=sr_1_113?crid=2L82B3VTUKW92&keywords=hand+watch&qid=1669915419&qu=eyJxc2MiOiI3LjM3IiwicXNhIjoiNy4yMiIsInFzcCI6IjUuNzkifQ%3D%3D&sprefix=hand+watch%2Caps%2C612&sr=8-113\n",
      "https://www.amazon.in/ExcluZiva-Gallery-Princess-Projector-Projecting/dp/B0B8S3XVBG/ref=sr_1_114?crid=2L82B3VTUKW92&keywords=hand+watch&qid=1669915419&qu=eyJxc2MiOiI3LjM3IiwicXNhIjoiNy4yMiIsInFzcCI6IjUuNzkifQ%3D%3D&sprefix=hand+watch%2Caps%2C612&sr=8-114\n",
      "https://www.amazon.in/Timex-Analog-Beige-Dial-Watch-TW000U930/dp/B07BH57CYV/ref=sr_1_115?crid=2L82B3VTUKW92&keywords=hand+watch&qid=1669915419&qu=eyJxc2MiOiI3LjM3IiwicXNhIjoiNy4yMiIsInFzcCI6IjUuNzkifQ%3D%3D&sprefix=hand+watch%2Caps%2C612&sr=8-115\n",
      "https://www.amazon.in/Dobariya-Enterprises-Gesture-Twisting-Off-Road/dp/B0BMQBMFSP/ref=sr_1_116?crid=2L82B3VTUKW92&keywords=hand+watch&qid=1669915419&qu=eyJxc2MiOiI3LjM3IiwicXNhIjoiNy4yMiIsInFzcCI6IjUuNzkifQ%3D%3D&sprefix=hand+watch%2Caps%2C612&sr=8-116\n",
      "https://www.amazon.in/sspa/click?ie=UTF8&spc=MTo4NzM5NjA0OTI3MDY4MjMzOjE2Njk5MTU0MTk6c3BfbXRmOjIwMDM3NTkxOTgwMTAyOjowOjo&url=%2FEmartos-Analogue-Black-Arrow-Watch%2Fdp%2FB08F7RWY8P%2Fref%3Dsr_1_117_sspa%3Fcrid%3D2L82B3VTUKW92%26keywords%3Dhand%2Bwatch%26qid%3D1669915419%26qu%3DeyJxc2MiOiI3LjM3IiwicXNhIjoiNy4yMiIsInFzcCI6IjUuNzkifQ%253D%253D%26sprefix%3Dhand%2Bwatch%252Caps%252C612%26sr%3D8-117-spons%26sp_csd%3Dd2lkZ2V0TmFtZT1zcF9tdGY%26psc%3D1\n",
      "https://www.amazon.in/sspa/click?ie=UTF8&spc=MTo4NzM5NjA0OTI3MDY4MjMzOjE2Njk5MTU0MTk6c3BfbXRmOjIwMDU2MTM5NjIwODk4OjowOjo&url=%2FTIMEWEAR-Analog-Hands-Brown-Leather%2Fdp%2FB0B31P5YTX%2Fref%3Dsr_1_118_sspa%3Fcrid%3D2L82B3VTUKW92%26keywords%3Dhand%2Bwatch%26qid%3D1669915419%26qu%3DeyJxc2MiOiI3LjM3IiwicXNhIjoiNy4yMiIsInFzcCI6IjUuNzkifQ%253D%253D%26sprefix%3Dhand%2Bwatch%252Caps%252C612%26sr%3D8-118-spons%26sp_csd%3Dd2lkZ2V0TmFtZT1zcF9tdGY%26psc%3D1\n",
      "https://www.amazon.in/sspa/click?ie=UTF8&spc=MTo4NzM5NjA0OTI3MDY4MjMzOjE2Njk5MTU0MTk6c3BfbXRmOjIwMDYzMTQ0NjAyMDk4OjowOjo&url=%2FEmartos-Black-White-Digital-Analogue%2Fdp%2FB09DZ19CP2%2Fref%3Dsr_1_119_sspa%3Fcrid%3D2L82B3VTUKW92%26keywords%3Dhand%2Bwatch%26qid%3D1669915419%26qu%3DeyJxc2MiOiI3LjM3IiwicXNhIjoiNy4yMiIsInFzcCI6IjUuNzkifQ%253D%253D%26sprefix%3Dhand%2Bwatch%252Caps%252C612%26sr%3D8-119-spons%26sp_csd%3Dd2lkZ2V0TmFtZT1zcF9tdGY%26psc%3D1\n",
      "https://www.amazon.in/sspa/click?ie=UTF8&spc=MTo4NzM5NjA0OTI3MDY4MjMzOjE2Njk5MTU0MTk6c3BfbXRmOjIwMDkxMzcyMzMzMjk4OjowOjo&url=%2FFORSINING-Automatic-Mechanical-Diamond-Multifunctional%2Fdp%2FB0BKPHFTL7%2Fref%3Dsr_1_120_sspa%3Fcrid%3D2L82B3VTUKW92%26keywords%3Dhand%2Bwatch%26qid%3D1669915419%26qu%3DeyJxc2MiOiI3LjM3IiwicXNhIjoiNy4yMiIsInFzcCI6IjUuNzkifQ%253D%253D%26sprefix%3Dhand%2Bwatch%252Caps%252C612%26sr%3D8-120-spons%26sp_csd%3Dd2lkZ2V0TmFtZT1zcF9tdGY%26psc%3D1\n",
      "https://www.amazon.in/Sonata-Daisies-Analog-Silver-Watch-8151SL01/dp/B077XW9XSJ/ref=sr_1_121?crid=2L82B3VTUKW92&keywords=hand+watch&qid=1669915419&qu=eyJxc2MiOiI3LjM3IiwicXNhIjoiNy4yMiIsInFzcCI6IjUuNzkifQ%3D%3D&sprefix=hand+watch%2Caps%2C612&sr=8-121\n",
      "https://www.amazon.in/SHOPTOSHOP-Activity-Waterproof-Functions-Touchscreen/dp/B07X1XMDB2/ref=sr_1_122?crid=2L82B3VTUKW92&keywords=hand+watch&qid=1669915419&qu=eyJxc2MiOiI3LjM3IiwicXNhIjoiNy4yMiIsInFzcCI6IjUuNzkifQ%3D%3D&sprefix=hand+watch%2Caps%2C612&sr=8-122\n",
      "https://www.amazon.in/Acnos-Black-Strap-Analogue-Watches/dp/B0838FZL41/ref=sr_1_123?crid=2L82B3VTUKW92&keywords=hand+watch&qid=1669915419&qu=eyJxc2MiOiI3LjM3IiwicXNhIjoiNy4yMiIsInFzcCI6IjUuNzkifQ%3D%3D&sprefix=hand+watch%2Caps%2C612&sr=8-123\n",
      "https://www.amazon.in/Acnos-Created-Designer-Premium-Quality/dp/B07KZSY8KM/ref=sr_1_124?crid=2L82B3VTUKW92&keywords=hand+watch&qid=1669915419&qu=eyJxc2MiOiI3LjM3IiwicXNhIjoiNy4yMiIsInFzcCI6IjUuNzkifQ%3D%3D&sprefix=hand+watch%2Caps%2C612&sr=8-124\n",
      "https://www.amazon.in/TIMEWEAR-Analogue-Watch-Silver-Colored/dp/B08DG1QB9J/ref=sr_1_125?crid=2L82B3VTUKW92&keywords=hand+watch&qid=1669915419&qu=eyJxc2MiOiI3LjM3IiwicXNhIjoiNy4yMiIsInFzcCI6IjUuNzkifQ%3D%3D&sprefix=hand+watch%2Caps%2C612&sr=8-125\n",
      "https://www.amazon.in/PIRASO-Teacher-Analogue-Silver-Colored/dp/B08RDWJYG4/ref=sr_1_126?crid=2L82B3VTUKW92&keywords=hand+watch&qid=1669915419&qu=eyJxc2MiOiI3LjM3IiwicXNhIjoiNy4yMiIsInFzcCI6IjUuNzkifQ%3D%3D&sprefix=hand+watch%2Caps%2C612&sr=8-126\n",
      "https://www.amazon.in/Laurrens-VL-8009-Resistant-Quartz-Premium/dp/B09GPMBDBX/ref=sr_1_127?crid=2L82B3VTUKW92&keywords=hand+watch&qid=1669915419&qu=eyJxc2MiOiI3LjM3IiwicXNhIjoiNy4yMiIsInFzcCI6IjUuNzkifQ%3D%3D&sprefix=hand+watch%2Caps%2C612&sr=8-127\n",
      "https://www.amazon.in/Titan-Analog-Champagne-Stainless-Steel/dp/B01G76C0I0/ref=sr_1_128?crid=2L82B3VTUKW92&keywords=hand+watch&qid=1669915419&qu=eyJxc2MiOiI3LjM3IiwicXNhIjoiNy4yMiIsInFzcCI6IjUuNzkifQ%3D%3D&sprefix=hand+watch%2Caps%2C612&sr=8-128\n",
      "https://www.amazon.in/YOUTH-CLUB-DG-1257-Trending-Waterproof/dp/B09QSM9T19/ref=sr_1_129?crid=2L82B3VTUKW92&keywords=hand+watch&qid=1669915419&qu=eyJxc2MiOiI3LjM3IiwicXNhIjoiNy4yMiIsInFzcCI6IjUuNzkifQ%3D%3D&sprefix=hand+watch%2Caps%2C612&sr=8-129\n",
      "https://www.amazon.in/HAMT-Analogue-Watch-Colored-Strap/dp/B08NTQ911S/ref=sr_1_130?crid=2L82B3VTUKW92&keywords=hand+watch&qid=1669915419&qu=eyJxc2MiOiI3LjM3IiwicXNhIjoiNy4yMiIsInFzcCI6IjUuNzkifQ%3D%3D&sprefix=hand+watch%2Caps%2C612&sr=8-130\n",
      "https://www.amazon.in/Frozil-Analog-Digital-Watches-Functional/dp/B0BBN198VH/ref=sr_1_131?crid=2L82B3VTUKW92&keywords=hand+watch&qid=1669915419&qu=eyJxc2MiOiI3LjM3IiwicXNhIjoiNy4yMiIsInFzcCI6IjUuNzkifQ%3D%3D&sprefix=hand+watch%2Caps%2C612&sr=8-131\n",
      "https://www.amazon.in/Redux-Analogue-Blue-Watch-RWS0202S/dp/B07D9F4TQ8/ref=sr_1_132?crid=2L82B3VTUKW92&keywords=hand+watch&qid=1669915419&qu=eyJxc2MiOiI3LjM3IiwicXNhIjoiNy4yMiIsInFzcCI6IjUuNzkifQ%3D%3D&sprefix=hand+watch%2Caps%2C612&sr=8-132\n",
      "https://www.amazon.in/Titan-Ladies-Neo-Ii-Analog-Watch-NK2480SM08/dp/B01MYX45X0/ref=sr_1_133?crid=2L82B3VTUKW92&keywords=hand+watch&qid=1669915419&qu=eyJxc2MiOiI3LjM3IiwicXNhIjoiNy4yMiIsInFzcCI6IjUuNzkifQ%3D%3D&sprefix=hand+watch%2Caps%2C612&sr=8-133\n",
      "https://www.amazon.in/Sonata-Analog-White-Dial-Watch-77049YM03C/dp/B072VHM5QB/ref=sr_1_134?crid=2L82B3VTUKW92&keywords=hand+watch&qid=1669915419&qu=eyJxc2MiOiI3LjM3IiwicXNhIjoiNy4yMiIsInFzcCI6IjUuNzkifQ%3D%3D&sprefix=hand+watch%2Caps%2C612&sr=8-134\n",
      "https://www.amazon.in/PIRASO-Analog-Working-Silver-Chain/dp/B0B9KY53WJ/ref=sr_1_135?crid=2L82B3VTUKW92&keywords=hand+watch&qid=1669915419&qu=eyJxc2MiOiI3LjM3IiwicXNhIjoiNy4yMiIsInFzcCI6IjUuNzkifQ%3D%3D&sprefix=hand+watch%2Caps%2C612&sr=8-135\n",
      "https://www.amazon.in/Zebronics-Bluetooth-Calling-Assistant-Fitness/dp/B0B2FCMZJR/ref=sr_1_136?crid=2L82B3VTUKW92&keywords=hand+watch&qid=1669915419&qu=eyJxc2MiOiI3LjM3IiwicXNhIjoiNy4yMiIsInFzcCI6IjUuNzkifQ%3D%3D&sprefix=hand+watch%2Caps%2C612&sr=8-136\n",
      "https://www.amazon.in/Louis-Devin-WT005-WHT-CH-Steel-Chain/dp/B07G5YTSFC/ref=sr_1_137?crid=2L82B3VTUKW92&keywords=hand+watch&qid=1669915419&qu=eyJxc2MiOiI3LjM3IiwicXNhIjoiNy4yMiIsInFzcCI6IjUuNzkifQ%3D%3D&sprefix=hand+watch%2Caps%2C612&sr=8-137\n",
      "https://www.amazon.in/ASGARD-Multi-Functional-Sports-Digital/dp/B09W5995NP/ref=sr_1_138?crid=2L82B3VTUKW92&keywords=hand+watch&qid=1669915419&qu=eyJxc2MiOiI3LjM3IiwicXNhIjoiNy4yMiIsInFzcCI6IjUuNzkifQ%3D%3D&sprefix=hand+watch%2Caps%2C612&sr=8-138\n",
      "https://www.amazon.in/Outdoor-Helicopter-Induction-Electronic-Charging/dp/B0BM7JJ1KC/ref=sr_1_139?crid=2L82B3VTUKW92&keywords=hand+watch&qid=1669915419&qu=eyJxc2MiOiI3LjM3IiwicXNhIjoiNy4yMiIsInFzcCI6IjUuNzkifQ%3D%3D&sprefix=hand+watch%2Caps%2C612&sr=8-139\n",
      "https://www.amazon.in/Titan-Analog-Silver-Dial-Watch-1767SL01/dp/B0792MFKMJ/ref=sr_1_140?crid=2L82B3VTUKW92&keywords=hand+watch&qid=1669915419&qu=eyJxc2MiOiI3LjM3IiwicXNhIjoiNy4yMiIsInFzcCI6IjUuNzkifQ%3D%3D&sprefix=hand+watch%2Caps%2C612&sr=8-140\n",
      "https://www.amazon.in/Fastrack-Reflex-Unisex-Activity-Tracker/dp/B09SZBK6BW/ref=sr_1_141?crid=2L82B3VTUKW92&keywords=hand+watch&qid=1669915419&qu=eyJxc2MiOiI3LjM3IiwicXNhIjoiNy4yMiIsInFzcCI6IjUuNzkifQ%3D%3D&sprefix=hand+watch%2Caps%2C612&sr=8-141\n",
      "https://www.amazon.in/Tiyona-Analogue-Black-Basics-Wrist/dp/B0B5N7XL5Q/ref=sr_1_142?crid=2L82B3VTUKW92&keywords=hand+watch&qid=1669915419&qu=eyJxc2MiOiI3LjM3IiwicXNhIjoiNy4yMiIsInFzcCI6IjUuNzkifQ%3D%3D&sprefix=hand+watch%2Caps%2C612&sr=8-142\n",
      "https://www.amazon.in/CERO-Analogue-Black-Metal-Bracelet/dp/B097PZJYVS/ref=sr_1_143?crid=2L82B3VTUKW92&keywords=hand+watch&qid=1669915419&qu=eyJxc2MiOiI3LjM3IiwicXNhIjoiNy4yMiIsInFzcCI6IjUuNzkifQ%3D%3D&sprefix=hand+watch%2Caps%2C612&sr=8-143\n",
      "https://www.amazon.in/DAINTYSH-079-Sport-Watch-Rubber-Analog/dp/B08PKVZ1F1/ref=sr_1_144?crid=2L82B3VTUKW92&keywords=hand+watch&qid=1669915419&qu=eyJxc2MiOiI3LjM3IiwicXNhIjoiNy4yMiIsInFzcCI6IjUuNzkifQ%3D%3D&sprefix=hand+watch%2Caps%2C612&sr=8-144\n",
      "https://www.amazon.in/Mens-Watch-Black-Colored-Strap/dp/B08FBFNFQZ/ref=sr_1_145?crid=2L82B3VTUKW92&keywords=hand+watch&qid=1669915419&qu=eyJxc2MiOiI3LjM3IiwicXNhIjoiNy4yMiIsInFzcCI6IjUuNzkifQ%3D%3D&sprefix=hand+watch%2Caps%2C612&sr=8-145\n",
      "https://www.amazon.in/Hemt-Analogue-Black-Day-n-Date-Display/dp/B07HJ273RZ/ref=sr_1_146?crid=2L82B3VTUKW92&keywords=hand+watch&qid=1669915419&qu=eyJxc2MiOiI3LjM3IiwicXNhIjoiNy4yMiIsInFzcCI6IjUuNzkifQ%3D%3D&sprefix=hand+watch%2Caps%2C612&sr=8-146\n"
     ]
    }
   ],
   "source": [
    "url =driver.find_elements(By.XPATH,\"//a[@class='a-link-normal s-underline-text s-underline-link-text s-link-style a-text-normal']\")\n",
    "for i in url[0:50]:\n",
    "    \n",
    "    \n",
    "    print(i.get_attribute('href'))\n",
    "    len(url)"
   ]
  },
  {
   "cell_type": "code",
   "execution_count": 97,
   "id": "d3773a1f",
   "metadata": {},
   "outputs": [],
   "source": [
    "start = 0\n",
    "end = 3\n",
    "\n",
    "for page in range (start,end):        \n",
    "    brand_name = []\n",
    "    name_tags = driver.find_elements(By.XPATH,\"//span[@class='a-size-base-plus a-color-base']\")\n",
    "    for i in name_tags[0:50]:\n",
    "        brand_name.append(i.text)   \n",
    "\n",
    "        \n",
    "     \n",
    "    next_button=driver.find_element(By.XPATH,\"//a[@class='s-pagination-item s-pagination-next s-pagination-button s-pagination-separator']\")  \n",
    "    next_button.click()\n",
    "    time.sleep(2)\n"
   ]
  },
  {
   "cell_type": "code",
   "execution_count": 99,
   "id": "9a7728ca",
   "metadata": {},
   "outputs": [
    {
     "data": {
      "text/plain": [
       "['SKYLONA',\n",
       " 'jainx',\n",
       " 'Rambot',\n",
       " 'RUSTET',\n",
       " 'Discover Diamonds',\n",
       " 'VVV',\n",
       " 'Discover Diamonds',\n",
       " 'Discover Diamonds',\n",
       " 'Generic',\n",
       " 'LORENZ',\n",
       " 'Rich Club',\n",
       " 'SDF',\n",
       " 'Discover Diamonds',\n",
       " 'Discover Diamonds',\n",
       " 'Discover Diamonds',\n",
       " 'VVV',\n",
       " 'Discover Diamonds',\n",
       " 'QUTE',\n",
       " 'Discover Diamonds',\n",
       " 'Discover Diamonds',\n",
       " 'jainx',\n",
       " 'RUSTET',\n",
       " 'Matrix',\n",
       " 'Relish',\n",
       " 'Craftter',\n",
       " 'MYADDICTION',\n",
       " 'SHOPTOSHOP',\n",
       " 'SDF',\n",
       " 'Discover Diamonds',\n",
       " 'Generic',\n",
       " 'LOUIS DEVIN',\n",
       " 'VVV',\n",
       " 'Discover Diamonds',\n",
       " 'JewelryWe',\n",
       " 'CERO',\n",
       " 'Discover Diamonds',\n",
       " 'WRIGHTRACK',\n",
       " 'PHONE RING HOLDER',\n",
       " 'Discover Diamonds',\n",
       " 'Kenneth Cole Reaction',\n",
       " 'HUADM',\n",
       " 'Quality Time',\n",
       " 'Discover Diamonds',\n",
       " 'Discover Diamonds',\n",
       " 'B For Best Toys',\n",
       " 'Avaner',\n",
       " 'Generic',\n",
       " 'Generic',\n",
       " 'Discover Diamonds',\n",
       " 'Discover Diamonds']"
      ]
     },
     "execution_count": 99,
     "metadata": {},
     "output_type": "execute_result"
    }
   ],
   "source": [
    "brand_name = []\n",
    "name_tags = driver.find_elements(By.XPATH,\"//span[@class='a-size-base-plus a-color-base']\")\n",
    "for i in name_tags[0:50]:\n",
    "    brand_name.append(i.text)\n",
    "\n",
    "\n",
    "brand_name     "
   ]
  },
  {
   "cell_type": "code",
   "execution_count": 100,
   "id": "e2330e65",
   "metadata": {},
   "outputs": [
    {
     "data": {
      "text/plain": [
       "50"
      ]
     },
     "execution_count": 100,
     "metadata": {},
     "output_type": "execute_result"
    }
   ],
   "source": [
    "len(brand_name)"
   ]
  },
  {
   "cell_type": "code",
   "execution_count": 101,
   "id": "317c56d5",
   "metadata": {},
   "outputs": [
    {
     "data": {
      "text/plain": [
       "[\"Woman's Watch with Quartz Movement Latest. (Brown)\",\n",
       " 'Stylish Black Dial Day and Date Function Analogue Watch for Men',\n",
       " 'People Choices Universal Smart Full Touch Screen Watch with Camera, Facebook, Chrome and Many Other Features for All Smartphones',\n",
       " \"Analogue Waterproof Men's Watch (Silver Dial Silver Strap,TW00ZR347)\",\n",
       " 'HMT Pilot para Shock 17 Jewels Blue Dial Radium Hands Mechanical Hand-Winding Antique Wrist Watch',\n",
       " 'VVV-Best Toy Creation Orignal Best Flying Watch Helicopter Unbreakable Blades Reachargeable Hand Outdoor & Indoor Sensor Remote Control Wings Remote Toys 3D Light',\n",
       " \"HMT Pilot para Shock 17 Jewels Black Dial Radium Hands Hand Winding Antique Case Men's Wrist Watch\",\n",
       " 'HMT Janata para Shock 17 Jewels Sun Yellow Dial Radium Hands Mechanical Hand-Winding Antique Case Wrist Watch',\n",
       " 'New Smart Watch D116 Touchscreen Bluetooth Touch Sensor Smartwatch 1.3\" LED with Daily Activity Tracker, Heart Rate Sensor with K1 Wireless Bluetooth Headset Hand-Free Calling',\n",
       " 'Stylish Square Dial Smooth Silicon Strap ADDI Stylish Designer Analog Watch',\n",
       " 'RC-5065 Addictive (Black) Casual Analogue Watch for Men and Boys',\n",
       " 'Remote Controlled Watch Helicopter with Unbreakable Blades, Heli Watch Helicopter Hand Sensor Heli Watch Helicopter',\n",
       " 'HMT Jubilee 17 Jewels para Shock White Dial Radium Hands Mechanical Hand-Winding Antique Wrist Watch',\n",
       " 'HMT Janata para Shock 17 Jewels Red Dial Radium Hands Mechanical Hand-Winding Antique Wrist Watch',\n",
       " 'HMT Jubilee para Shock 17 Jewels White Dial Radium Hands Mechanical Hand-Winding Antique Wrist Watch',\n",
       " 'VVV-New Orignal Flying Heli Watch Helicopter with Hand Sensor Unbreakable Blades,Electronic Radio RC Remote Control Toy for Kids',\n",
       " 'HMT Janata para Shock 17 Jewels Black Urdu Dial Radium Hands Mechanical Hand-Winding Antique Case Wrist Watch',\n",
       " 'Helicopter Outdoor and Indoor Flying Heli Hand Watch Helicopter Active Transmitter Functional | Crazy RC Helicopter Radio Control | 3DLite | Unbreakable Feather Blade 14 Years Kids Toy',\n",
       " 'HMT Pilot para Shock 17 Jewels Black Dial Radium Hands Mechanical Hand Winding Antique Wrist Watch',\n",
       " 'HMT Pilot para Shock 17 Jewels White Dial Radium Hands Mechanical Hand Winding Antique Wrist Watch',\n",
       " \"Day and Date Feature Black Mesh Band Analogue Men's & Boy's Watch - JM396\",\n",
       " \"Analogue Men's & Boy's Day and Date Watch (Brown Dial Brown Colored Strap,BRW385)\",\n",
       " 'Antique 2.0 Day & Date Gold Plated Wrist Watch for Men & Boys',\n",
       " \"Analogue Men's & Boy's Watch, Sunglasses, Belt and Wallet Combo | Brother Gift for Rakhi | Birthday Gift for Mens\",\n",
       " 'Craftter 12 Inch Wooden MDF Wall Clock (Ghadi) for Living Room Bedroom Decor | Flower Numerical | Small Decorative Clocks | Analog Watches for Home Office and Farm House | Hand Crafted Time Piece',\n",
       " '3Pcs Watch Hand Presser Fitting Tool Watchmaker Repair Hand Fitter Press Set',\n",
       " 'Smart Band ID16_PAR Men Women Fitness Tracker Smart Watch 1.3 inch Screen Blood Pressure Heart Rate Monitor Lite Exercise Smartwatch for All Boys & Girls (Black)',\n",
       " 'Hand Sensor Watch Mini Sensor Flying Helicopter with Hand Induction /Watch- | Dynamic /Helicopter Motion ,Sensing Aerocraft',\n",
       " 'HMT Pilot para Shock 17 Jewels Black Dial Radium Hands Mechanical Hand Winding Antique Wrist Watch',\n",
       " 'Abhirupa Analog Pink Fenix Hand Watch for Women & Girls Standred Look',\n",
       " \"Analogue Men's Watch (Brown Colored Strap)\",\n",
       " 'VVV Toys Remote Control Helicopter with Unbreakable Blades Watch Helicopter with Hand Sensor Watch Helicopter for Kids',\n",
       " 'HMT Pilot para Shock 17 Jewels Black Dial Radium Hands Mechanical Hand Winding Antique Wrist Watch',\n",
       " 'Automatic Mechanical Watch Classic Hollow Gear Skeleton Hand Wind Steampunk Retro Watch with Chain for Xmas',\n",
       " \"Analogue Men's & Boy's Watch (Black Dial Black Colored Strap)\",\n",
       " 'HMT Janata para Shock 17 Jewels Green Dial Radium Hands Mechanical Hand-Winding Antique Wrist Watch',\n",
       " 'WRIGHTRACK New Generation Digital Square Black Dial Day Date Calendar Red LED Watch for Boys, Girls & Kids',\n",
       " 'PRH Mobile Phone Finger Grip Holder Stand Socket Up Grip Holder with Cute Cat P:aw Pink Design Logo Printing Sockets Phone Stand',\n",
       " 'HMT para Shock 17 Jewels Honey Color Dial Radium Indicates,Radium Hands Mechanical Hand-Winding Antique Wrist Watch',\n",
       " \"Kenneth Cole Reaction 3 Hands White Dial Men's Watch-KRWGM9006203\",\n",
       " 'Watch Hand Remover, Exquisite Workmanship Alloy Prevent Scratching Watch Hand Lifting Tool for Watch Makers for Home Use for Watch Shop',\n",
       " 'Orignal Best Flying Heli Watch Helicopter Unbreakable Blades Reachargeable Hand Outdoor Indoor Sensor Remote Control Wings Remote Toys 3D Light New Racing Safety Kids (Multi Color)',\n",
       " 'HMT Janata para Shock 17 Jewels White Dial Radium Hands Mechanical Hand-Winding Antique Wrist Watch',\n",
       " 'HMT Janata para Shock 17 Jewels Micky Mouse Red Dial Radium Hands Mechanical Hand-Winding Antique Wrist Watch',\n",
       " 'B For Best Toys Orignal Best Flying Heli Watch Helicopter Unbreakable Blades Reachargeable Hand Outdoor Indoor Sensor Remote Control Wings Remote Toys 3D Light New Racing Safety Kids (Multi Color)',\n",
       " 'Steampunk Retro Half Hunter Copper Gear Skeleton Hand Wind Mechanical Roman/Arabic Numeral Analog Display Pocket Watch with 14\"Chain',\n",
       " \"Abhirupa Golden Chain Linked Analog Black Dial Fenix Men's Hand Watch for Standred Look\",\n",
       " 'New BTS Waterproof D20-01 Smart Watch Touch Men Women Fitness Tracker Blood Pressure Heart Rate Monitor for Girls & Boys with K1 Wireless Bluetooth Headset Hand-Free Calling',\n",
       " 'HMT Pilot para Shock 17 Jewels Blue Color Dial Radium Hands Mechanical Hand-Winding Antique Wrist Watch',\n",
       " \"HMT Jawan para Shock 17 Jewels Vanilla Color Dial Radium Hands Transparent Back Mechanical Hand-Winding Antique Men's Wrist Watch\"]"
      ]
     },
     "execution_count": 101,
     "metadata": {},
     "output_type": "execute_result"
    }
   ],
   "source": [
    "product_names = []\n",
    "product_tags = driver.find_elements(By.XPATH,\"//span[@class='a-size-base-plus a-color-base a-text-normal']\")\n",
    "for i in product_tags[0:50]:\n",
    "    product_names.append(i.text)\n",
    "    \n",
    "product_names"
   ]
  },
  {
   "cell_type": "code",
   "execution_count": 102,
   "id": "771edd25",
   "metadata": {},
   "outputs": [
    {
     "data": {
      "text/plain": [
       "50"
      ]
     },
     "execution_count": 102,
     "metadata": {},
     "output_type": "execute_result"
    }
   ],
   "source": [
    "len(product_names)"
   ]
  },
  {
   "cell_type": "code",
   "execution_count": 103,
   "id": "a4999065",
   "metadata": {},
   "outputs": [
    {
     "data": {
      "text/plain": [
       "['289',\n",
       " '1,565',\n",
       " '489',\n",
       " '2,899',\n",
       " '899',\n",
       " '2,749',\n",
       " '2,749',\n",
       " '1,199',\n",
       " '199',\n",
       " '259',\n",
       " '989',\n",
       " '2,749',\n",
       " '2,599',\n",
       " '2,749',\n",
       " '899',\n",
       " '2,749',\n",
       " '999',\n",
       " '2,899',\n",
       " '2,749',\n",
       " '229',\n",
       " '289',\n",
       " '399',\n",
       " '664',\n",
       " '599',\n",
       " '1,238',\n",
       " '499',\n",
       " '999',\n",
       " '2,749',\n",
       " '369',\n",
       " '369',\n",
       " '899',\n",
       " '2,649',\n",
       " '3,466',\n",
       " '299',\n",
       " '2,599',\n",
       " '275',\n",
       " '249',\n",
       " '3,249',\n",
       " '4,650',\n",
       " '499',\n",
       " '899',\n",
       " '2,599',\n",
       " '2,599',\n",
       " '899',\n",
       " '4,764',\n",
       " '649',\n",
       " '1,199',\n",
       " '2,749',\n",
       " '2,749',\n",
       " '139']"
      ]
     },
     "execution_count": 103,
     "metadata": {},
     "output_type": "execute_result"
    }
   ],
   "source": [
    "price = []\n",
    "price_total = driver.find_elements(By.XPATH,\"//span[@class='a-price-whole']\")\n",
    "for i in price_total[0:50]:\n",
    "    price.append(i.text)\n",
    "    \n",
    "    \n",
    "price"
   ]
  },
  {
   "cell_type": "code",
   "execution_count": 104,
   "id": "07fe4624",
   "metadata": {},
   "outputs": [
    {
     "data": {
      "text/plain": [
       "50"
      ]
     },
     "execution_count": 104,
     "metadata": {},
     "output_type": "execute_result"
    }
   ],
   "source": [
    "len(price)"
   ]
  },
  {
   "cell_type": "code",
   "execution_count": 105,
   "id": "e46c0ac8",
   "metadata": {},
   "outputs": [
    {
     "data": {
      "text/plain": [
       "['Saturday, December 3',\n",
       " 'tomorrow, December 2',\n",
       " 'Tuesday, December 6',\n",
       " 'Monday, December 5',\n",
       " 'Wednesday, December 7',\n",
       " 'Friday, December 9',\n",
       " 'Monday, December 5',\n",
       " 'Monday, December 5',\n",
       " 'Saturday, December 3',\n",
       " 'Saturday, December 3',\n",
       " 'Saturday, December 3',\n",
       " 'Monday, December 5',\n",
       " 'Monday, December 5',\n",
       " 'Monday, December 5',\n",
       " 'Monday, December 5',\n",
       " 'Monday, December 5',\n",
       " 'Monday, December 5',\n",
       " 'Thursday, December 8',\n",
       " 'Monday, December 12',\n",
       " 'Monday, December 5',\n",
       " 'Monday, December 5',\n",
       " 'Saturday, December 3',\n",
       " 'Tuesday, December 6',\n",
       " 'Saturday, December 3',\n",
       " 'Saturday, December 3',\n",
       " 'Sunday, December 4',\n",
       " 'Saturday, December 10',\n",
       " 'Wednesday, December 14',\n",
       " 'Saturday, December 3',\n",
       " 'Thursday, December 8',\n",
       " 'Monday, December 5',\n",
       " 'Saturday, December 3',\n",
       " 'Tuesday, December 6',\n",
       " 'Saturday, December 3',\n",
       " 'Thursday, December 8',\n",
       " 'Monday, December 5',\n",
       " 'Tuesday, December 20',\n",
       " 'Friday, December 23',\n",
       " 'Tuesday, December 6',\n",
       " 'Monday, December 5',\n",
       " 'Saturday, December 3',\n",
       " 'tomorrow, December 2',\n",
       " 'Monday, December 5',\n",
       " 'Wednesday, December 7',\n",
       " 'Tuesday, December 13',\n",
       " 'Thursday, December 15',\n",
       " 'Monday, December 5',\n",
       " 'Monday, December 5',\n",
       " 'Monday, December 5',\n",
       " 'Monday, December 5']"
      ]
     },
     "execution_count": 105,
     "metadata": {},
     "output_type": "execute_result"
    }
   ],
   "source": [
    "expect_delvy = []\n",
    "delvy_expect = driver.find_elements(By.XPATH,\"//span[@class='a-color-base a-text-bold']\")\n",
    "for i in delvy_expect[0:50]:\n",
    "    expect_delvy.append(i.text)\n",
    "    \n",
    "expect_delvy"
   ]
  },
  {
   "cell_type": "code",
   "execution_count": 106,
   "id": "92e18580",
   "metadata": {},
   "outputs": [
    {
     "data": {
      "text/plain": [
       "50"
      ]
     },
     "execution_count": 106,
     "metadata": {},
     "output_type": "execute_result"
    }
   ],
   "source": [
    "len(expect_delvy)"
   ]
  },
  {
   "cell_type": "code",
   "execution_count": 107,
   "id": "799d9e95",
   "metadata": {},
   "outputs": [
    {
     "name": "stdout",
     "output_type": "stream",
     "text": [
      "https://www.amazon.in/sspa/click?ie=UTF8&spc=MTo1MDA3ODczODA5NTgyMzQxOjE2Njk5MTY0NTY6c3BfYXRmX25leHQ6MjAwOTg3MTI4NTI1OTg6OjA6Og&url=%2FSKYLONA-Womans-Movement-Latest-Brown%2Fdp%2FB0BLZ9MLDC%2Fref%3Dsr_1_241_sspa%3Fcrid%3D2L82B3VTUKW92%26keywords%3Dhand%2Bwatch%26qid%3D1669916456%26qu%3DeyJxc2MiOiI3LjM3IiwicXNhIjoiNy4yMiIsInFzcCI6IjUuNzkifQ%253D%253D%26sprefix%3Dhand%2Bwatch%252Caps%252C612%26sr%3D8-241-spons%26sp_csd%3Dd2lkZ2V0TmFtZT1zcF9hdGZfbmV4dA%26psc%3D1\n"
     ]
    }
   ],
   "source": [
    "url =driver.find_elements(By.XPATH,\"/html/body/div[1]/div[2]/div[1]/div[1]/div/span[1]/div[1]/div[3]/div/div/div/div/div/div/div[2]/div[1]/h2/a\")\n",
    "for i in url[0:50]:\n",
    "    \n",
    "    \n",
    "    print(i.get_attribute('href'))"
   ]
  },
  {
   "cell_type": "code",
   "execution_count": 111,
   "id": "8f0eb24a",
   "metadata": {},
   "outputs": [],
   "source": [
    "start = 0\n",
    "end = 3\n",
    "\n",
    "for page in range (start,end):            \n",
    "    brand_name = []\n",
    "    name_tags = driver.find_elements(By.XPATH,\"//span[@class='a-size-base-plus a-color-base']\")\n",
    "    for i in name_tags[0:50]:\n",
    "        brand_name.append(i.text)   \n",
    "        \n",
    "    next_button= driver.find_element(By.XPATH,\"//a[@class='s-pagination-item s-pagination-next s-pagination-button s-pagination-separator']\")  \n",
    "    next_button.click()\n",
    "    time.sleep(2)\n"
   ]
  },
  {
   "cell_type": "code",
   "execution_count": 113,
   "id": "e85dcf8a",
   "metadata": {},
   "outputs": [
    {
     "data": {
      "text/plain": [
       "['FROZIL',\n",
       " 'DOUBLERUN',\n",
       " 'Doublerun',\n",
       " 'SWADESI STUFF',\n",
       " 'Fastrack',\n",
       " 'SELLORIA',\n",
       " 'SKMEI',\n",
       " 'PTron',\n",
       " 'MMOBIEL',\n",
       " 'TIMEWEAR',\n",
       " 'ASGARD',\n",
       " 'Noise',\n",
       " 'Espoir',\n",
       " 'SF',\n",
       " 'HeartInk',\n",
       " 'HEMT',\n",
       " 'Fastrack',\n",
       " 'ExcluZiva Gallery',\n",
       " 'TIMEX',\n",
       " 'Dobariya Enterprise',\n",
       " 'Emartos',\n",
       " 'TIMEWEAR',\n",
       " 'SWADESI STUFF',\n",
       " 'TIMEWEAR',\n",
       " 'Sonata',\n",
       " 'SHOPTOSHOP',\n",
       " 'Acnos',\n",
       " 'Acnos',\n",
       " 'TIMEWEAR',\n",
       " 'VILLS LAURRENS',\n",
       " 'PIRASO',\n",
       " 'Titan',\n",
       " 'YOUTH CLUB',\n",
       " 'REDUX',\n",
       " 'hamt',\n",
       " 'FROZIL',\n",
       " 'Titan',\n",
       " 'Sonata',\n",
       " 'PIRASO',\n",
       " 'ZEBRONICS',\n",
       " 'LOUIS DEVIN',\n",
       " 'ASGARD',\n",
       " 'SDF',\n",
       " 'Titan',\n",
       " 'Decode',\n",
       " 'HEMT',\n",
       " 'DAINTY',\n",
       " 'CERO',\n",
       " 'Fastrack',\n",
       " 'Titan']"
      ]
     },
     "execution_count": 113,
     "metadata": {},
     "output_type": "execute_result"
    }
   ],
   "source": [
    "brand_name = []\n",
    "name_tags = driver.find_elements(By.XPATH,\"//span[@class='a-size-base-plus a-color-base']\")\n",
    "for i in name_tags[0:50]:\n",
    "    brand_name.append(i.text)\n",
    "\n",
    "\n",
    "brand_name     "
   ]
  },
  {
   "cell_type": "code",
   "execution_count": 114,
   "id": "43c33473",
   "metadata": {},
   "outputs": [
    {
     "data": {
      "text/plain": [
       "50"
      ]
     },
     "execution_count": 114,
     "metadata": {},
     "output_type": "execute_result"
    }
   ],
   "source": [
    "len(brand_name)"
   ]
  },
  {
   "cell_type": "code",
   "execution_count": 115,
   "id": "3777b7db",
   "metadata": {},
   "outputs": [
    {
     "data": {
      "text/plain": [
       "[\"Digital Watch Shockproof Multi-Functional Automatic Full Black Color Strap Waterproof Digital Sports Watch for Men's Kids Watch for Boys Watch for Men Pack of-1\",\n",
       " '9001_3D Glass Date Display Dial Chain Belt Analog Watch - for Men',\n",
       " 'DD4_8017 3D Glass Date Display White Dial Analog Watch - for Men',\n",
       " \"Analogue Boy's & Girl's Watch (Multicolored Dial & Strap)\",\n",
       " \"Analog Dial Women's Watch\",\n",
       " 'S Shock Digital Kids Watch for Boys [7-30 Years]',\n",
       " 'Simple Digital Men’s Military Watches Waterproof Electronic LED Double Time Black Wristwatch Sport',\n",
       " 'PTron Newly Launched Force X10 Bluetooth Calling Smartwatch with 1.7\" Full Touch Color Display, Real Heart Rate Monitor, SpO2, Watch Faces, 5 Days Runtime, Fitness Trackers & IP68 Waterproof (Blue)',\n",
       " 'Watch Tool Stainless Steel Handle Compatible with Adjustment Replacing Removal of Spring bar Straps Pins 7pcs',\n",
       " 'Analog Day Date Functioning Golden Case Brown Strap Watch for Men',\n",
       " \"Multi Functional Sports Digital Multicolor Dial Men's Watch\",\n",
       " 'Noise ColorFit Pulse Spo2 Smart Watch with 10 days battery life, 60+ Watch Faces, 1.4\" Full Touch HD Display Smartwatch, 24*7 Heart Rate Monitor Smart Band, Sleep Monitoring Smart Watches for Men and Women & IP68 Waterproof (Jet Black)',\n",
       " 'Stainless Steel Day and Date Blue Dial Analog Mens Watch Sam0507',\n",
       " \"Sporty Analog Black Dial Men's Watch-NL7930PP01/NP7930PP01\",\n",
       " 'BTS Bangtan Boys Theme Fan Art Made Hand Analog Quartz Movement Wrist Watch Stainless Steel & Leather Strap for Boys and Girls - WATCHINKBTS01',\n",
       " 'Gold Dial Day n Date Display Analog Wrist Watch HM-GR095-GLD-SLV',\n",
       " 'Reflex 3.0 Unisex Activity Tracker - Full Touch, Color Display, Heart Rate Monitor, Dual- Tone Silicone Strap and up to 10 Days Battery Life',\n",
       " 'ExcluZiva Gallery Kids Barbie Princess Theme Light Glowing 24 Images Projector Smart Digital Hand Watch Girls Toy Figure Wrist Watch Dial Action Figure Pictures Projecting',\n",
       " \"Analog Beige Dial Men's Watch-TW000U930\",\n",
       " \"Dobariya Enterprise's Hand Gesture Remote Control Stunt Car Twisting Off-Road Vehicle Light Hand Sensor Watch Sensor Toy RC Stunt Car Plastic Large Multi Color (1 pc Set)\",\n",
       " \"Analogue Black Dial Arrow Watch For Men's And Boy's (Pack Of 2)\",\n",
       " 'Analog Two Hands Leather Strap Slim Watch for Men',\n",
       " \"Black Metal Strap Watch Series Analogue Men's Watch (Black Dial Black Colored Strap)\",\n",
       " 'Slim Two Hands Genuine Leather Strap Watch for Men',\n",
       " \"Steel Daisies Analog Silver Dial Women's Watch NL8151SL01/NN8151SL01/NP8151SL01\",\n",
       " 'Smart Band Bluetooth Health Wrist Smart Band Monitor Smart Health for Men & Women Activity Fitness Tracker',\n",
       " \"Brand - Analogue Men's Watch (Black Dial Multi Colored Strap) (1.Gold)\",\n",
       " 'Black Dial Combo Analogue Watches for Men Pack of - 2 (LR01-MINO)',\n",
       " 'Analog Minute Track Dial Stainless Steel Chain Watch for Men',\n",
       " 'VL-8009 All Black Metal Strap with Two Tone Water Resistant Quartz Boys Premium Metal Series Analog Watch - for Men',\n",
       " 'Analog Day and Date Working Black DIAL Silver Chain Watch for Men & Boys',\n",
       " \"Analog Champagne Dial Stainless Steel Strap Men's Watch - 1650YM06\",\n",
       " 'DG-1257, Black Color New Trending Full Black Round Waterproof, Sporty Looking Watch for Boys',\n",
       " \"RWS0202S Analogue Blue & Grey Dial Men's & Boy's Watch\",\n",
       " \"Analogue Men's Watch (Gold Dial Gold Colored Strap)-Series\",\n",
       " 'Analog and Digital Round Square Multi Dial Combo of 2 Watches Army Belt Sports Multi Functional Watch for Boys and Watch for Mens Pack of 2',\n",
       " \"Ladies Neo-Ii Analog Black Dial Women's Watch-NL2480SM08\",\n",
       " \"Analog White Dial Men's Watch-NL77049YM03/NP77049YM03\",\n",
       " 'Analog Day and Date Working DIAL Silver Chain Watch for Men & Boys',\n",
       " 'Zebronics DRIP Smart Watch with Bluetooth Calling, 4.3cm (1.69\"), 10 built-in & 100+ Watch Faces, 100+ Sport Modes, 4 built-in Games, Voice Assistant, 8 Menu UI, Fitness Health & Sleep Tracker (Black)',\n",
       " \"Men's Watch (Silver Colored Strap)\",\n",
       " \"Multi Functional Sports Digital Dial Men's Watch\",\n",
       " 'Outdoor & Indoor Flying Watch Helicopter with Hand Induction Watch | Electronic Radio RC Remote Control Toy | USB Charging Helicopter with 3D Light & Safety Sensor for Kids(Multi Color).',\n",
       " \"Neo Analog Silver Dial Men's Watch-NL1767SL01/NP1767SL01\",\n",
       " \"Analogue Men's Watch (Black Dial Black Colored Strap)\",\n",
       " \"Analog Black Dial Men's Watch-HM-GR092-BLK-CH\",\n",
       " \"DAINTYSH-079 Sport Watch Rubber Strap Tees Boy's Analog Men's Watch (Black)\",\n",
       " \"Analogue Black Dial Metal Strap and King Bracelet Combo Watch for Men & Boys's\",\n",
       " 'Fastrack Reflex 2C Unisex Activity Tracker - Full Touch, Color Display,Notification Alert - Upto 7 Days Battery Life -SWD90059PP09',\n",
       " \"Regalia Baron Analog Silver Dial Men's Watch-NL1743BM01/NP1743BM01\"]"
      ]
     },
     "execution_count": 115,
     "metadata": {},
     "output_type": "execute_result"
    }
   ],
   "source": [
    "product_names = []\n",
    "product_tags = driver.find_elements(By.XPATH,\"//span[@class='a-size-base-plus a-color-base a-text-normal']\")\n",
    "for i in product_tags[0:50]:\n",
    "    product_names.append(i.text)\n",
    "    \n",
    "product_names"
   ]
  },
  {
   "cell_type": "code",
   "execution_count": 119,
   "id": "a5d5e5a1",
   "metadata": {},
   "outputs": [
    {
     "data": {
      "text/plain": [
       "50"
      ]
     },
     "execution_count": 119,
     "metadata": {},
     "output_type": "execute_result"
    }
   ],
   "source": [
    "len(product_names)"
   ]
  },
  {
   "cell_type": "code",
   "execution_count": 120,
   "id": "da653ffe",
   "metadata": {},
   "outputs": [
    {
     "data": {
      "text/plain": [
       "['1,099',\n",
       " '999',\n",
       " '599',\n",
       " '280',\n",
       " '499',\n",
       " '389',\n",
       " '189',\n",
       " '1,485',\n",
       " '219',\n",
       " '799',\n",
       " '1,499',\n",
       " '349',\n",
       " '339',\n",
       " '275',\n",
       " '1,799',\n",
       " '249',\n",
       " '625',\n",
       " '499',\n",
       " '389',\n",
       " '2,295',\n",
       " '299',\n",
       " '1,886',\n",
       " '507',\n",
       " '379',\n",
       " '249',\n",
       " '379',\n",
       " '1,199',\n",
       " '499',\n",
       " '294',\n",
       " '304',\n",
       " '309',\n",
       " '349',\n",
       " '419',\n",
       " '2,396',\n",
       " '370',\n",
       " '315',\n",
       " '379',\n",
       " '380',\n",
       " '2,995',\n",
       " '849',\n",
       " '399',\n",
       " '1,799',\n",
       " '359',\n",
       " '299',\n",
       " '999',\n",
       " '3,795',\n",
       " '332',\n",
       " '249',\n",
       " '159',\n",
       " '299']"
      ]
     },
     "execution_count": 120,
     "metadata": {},
     "output_type": "execute_result"
    }
   ],
   "source": [
    "price = []\n",
    "price_total = driver.find_elements(By.XPATH,\"//span[@class='a-price-whole']\")\n",
    "for i in price_total[0:50]:\n",
    "    price.append(i.text)\n",
    "    \n",
    "    \n",
    "price"
   ]
  },
  {
   "cell_type": "code",
   "execution_count": 121,
   "id": "c9d69717",
   "metadata": {},
   "outputs": [
    {
     "data": {
      "text/plain": [
       "50"
      ]
     },
     "execution_count": 121,
     "metadata": {},
     "output_type": "execute_result"
    }
   ],
   "source": [
    "len(price)"
   ]
  },
  {
   "cell_type": "code",
   "execution_count": 122,
   "id": "fe0b1cc7",
   "metadata": {},
   "outputs": [
    {
     "data": {
      "text/plain": [
       "['Tuesday, December 6',\n",
       " 'Tuesday, December 6',\n",
       " 'Tuesday, December 6',\n",
       " 'Monday, December 5',\n",
       " 'Saturday, December 3',\n",
       " 'Tuesday, December 6',\n",
       " 'Saturday, December 3',\n",
       " 'tomorrow, December 2',\n",
       " 'tomorrow, December 2',\n",
       " 'tomorrow, December 2',\n",
       " 'Saturday, December 3',\n",
       " 'tomorrow, December 2',\n",
       " 'Saturday, December 3',\n",
       " 'Tuesday, December 6',\n",
       " 'Saturday, December 3',\n",
       " 'Saturday, December 3',\n",
       " 'Sunday, December 4',\n",
       " 'tomorrow, December 2',\n",
       " 'tomorrow, December 2',\n",
       " 'tomorrow, December 2',\n",
       " 'Monday, December 5',\n",
       " 'tomorrow, December 2',\n",
       " 'tomorrow, December 2',\n",
       " 'Saturday, December 3',\n",
       " 'Saturday, December 3',\n",
       " 'tomorrow, December 2',\n",
       " 'tomorrow, December 2',\n",
       " 'Saturday, December 3',\n",
       " 'Saturday, December 3',\n",
       " 'tomorrow, December 2',\n",
       " 'Saturday, December 3',\n",
       " 'Saturday, December 3',\n",
       " 'Saturday, December 3',\n",
       " 'Tuesday, December 6',\n",
       " 'Saturday, December 3',\n",
       " 'Saturday, December 3',\n",
       " 'Saturday, December 3',\n",
       " 'tomorrow, December 2',\n",
       " 'Saturday, December 3',\n",
       " 'Saturday, December 3',\n",
       " 'Thursday, December 8',\n",
       " 'Monday, December 12',\n",
       " 'tomorrow, December 2',\n",
       " 'Saturday, December 3',\n",
       " 'Saturday, December 3',\n",
       " 'Tuesday, December 6',\n",
       " 'Tuesday, December 6',\n",
       " 'tomorrow, December 2',\n",
       " 'tomorrow, December 2',\n",
       " 'Saturday, December 3']"
      ]
     },
     "execution_count": 122,
     "metadata": {},
     "output_type": "execute_result"
    }
   ],
   "source": [
    "expect_delvy = []\n",
    "delvy_expect = driver.find_elements(By.XPATH,\"//span[@class='a-color-base a-text-bold']\")\n",
    "for i in delvy_expect[0:50]:\n",
    "    expect_delvy.append(i.text)\n",
    "    \n",
    "expect_delvy"
   ]
  },
  {
   "cell_type": "code",
   "execution_count": 123,
   "id": "8902616c",
   "metadata": {},
   "outputs": [
    {
     "data": {
      "text/plain": [
       "50"
      ]
     },
     "execution_count": 123,
     "metadata": {},
     "output_type": "execute_result"
    }
   ],
   "source": [
    "len(expect_delvy)"
   ]
  },
  {
   "cell_type": "code",
   "execution_count": 86,
   "id": "a31f966a",
   "metadata": {},
   "outputs": [
    {
     "name": "stdout",
     "output_type": "stream",
     "text": [
      "https://www.amazon.in/sspa/click?ie=UTF8&spc=MTo4NzM5NjA0OTI3MDY4MjMzOjE2Njk5MTU0MTk6c3BfYXRmX25leHQ6MjAwNjMzODc5NjM3OTg6OjA6Og&url=%2FDOUBLERUN-9001_3D-Glass-Display-Analog%2Fdp%2FB0B7G5FZJZ%2Fref%3Dsr_1_97_sspa%3Fcrid%3D2L82B3VTUKW92%26keywords%3Dhand%2Bwatch%26qid%3D1669915419%26qu%3DeyJxc2MiOiI3LjM3IiwicXNhIjoiNy4yMiIsInFzcCI6IjUuNzkifQ%253D%253D%26sprefix%3Dhand%2Bwatch%252Caps%252C612%26sr%3D8-97-spons%26sp_csd%3Dd2lkZ2V0TmFtZT1zcF9hdGZfbmV4dA%26psc%3D1\n"
     ]
    }
   ],
   "source": [
    "url =driver.find_elements(By.XPATH,\"/html/body/div[1]/div[2]/div[1]/div[1]/div/span[1]/div[1]/div[3]/div/div/div/div/div/div/div[2]/div[1]/h2/a\")\n",
    "for i in url:\n",
    "    \n",
    "    \n",
    "    print(i.get_attribute('href'))"
   ]
  },
  {
   "cell_type": "code",
   "execution_count": 126,
   "id": "ec55f03b",
   "metadata": {},
   "outputs": [
    {
     "data": {
      "text/html": [
       "<div>\n",
       "<style scoped>\n",
       "    .dataframe tbody tr th:only-of-type {\n",
       "        vertical-align: middle;\n",
       "    }\n",
       "\n",
       "    .dataframe tbody tr th {\n",
       "        vertical-align: top;\n",
       "    }\n",
       "\n",
       "    .dataframe thead th {\n",
       "        text-align: right;\n",
       "    }\n",
       "</style>\n",
       "<table border=\"1\" class=\"dataframe\">\n",
       "  <thead>\n",
       "    <tr style=\"text-align: right;\">\n",
       "      <th></th>\n",
       "      <th>brand_name</th>\n",
       "      <th>product_names</th>\n",
       "      <th>price</th>\n",
       "      <th>expect_delvy</th>\n",
       "    </tr>\n",
       "  </thead>\n",
       "  <tbody>\n",
       "    <tr>\n",
       "      <th>0</th>\n",
       "      <td>FROZIL</td>\n",
       "      <td>Digital Watch Shockproof Multi-Functional Auto...</td>\n",
       "      <td>1,099</td>\n",
       "      <td>Tuesday, December 6</td>\n",
       "    </tr>\n",
       "    <tr>\n",
       "      <th>1</th>\n",
       "      <td>DOUBLERUN</td>\n",
       "      <td>9001_3D Glass Date Display Dial Chain Belt Ana...</td>\n",
       "      <td>999</td>\n",
       "      <td>Tuesday, December 6</td>\n",
       "    </tr>\n",
       "    <tr>\n",
       "      <th>2</th>\n",
       "      <td>Doublerun</td>\n",
       "      <td>DD4_8017 3D Glass Date Display White Dial Anal...</td>\n",
       "      <td>599</td>\n",
       "      <td>Tuesday, December 6</td>\n",
       "    </tr>\n",
       "    <tr>\n",
       "      <th>3</th>\n",
       "      <td>SWADESI STUFF</td>\n",
       "      <td>Analogue Boy's &amp; Girl's Watch (Multicolored Di...</td>\n",
       "      <td>280</td>\n",
       "      <td>Monday, December 5</td>\n",
       "    </tr>\n",
       "    <tr>\n",
       "      <th>4</th>\n",
       "      <td>Fastrack</td>\n",
       "      <td>Analog Dial Women's Watch</td>\n",
       "      <td>499</td>\n",
       "      <td>Saturday, December 3</td>\n",
       "    </tr>\n",
       "    <tr>\n",
       "      <th>5</th>\n",
       "      <td>SELLORIA</td>\n",
       "      <td>S Shock Digital Kids Watch for Boys [7-30 Years]</td>\n",
       "      <td>389</td>\n",
       "      <td>Tuesday, December 6</td>\n",
       "    </tr>\n",
       "    <tr>\n",
       "      <th>6</th>\n",
       "      <td>SKMEI</td>\n",
       "      <td>Simple Digital Men’s Military Watches Waterpro...</td>\n",
       "      <td>189</td>\n",
       "      <td>Saturday, December 3</td>\n",
       "    </tr>\n",
       "    <tr>\n",
       "      <th>7</th>\n",
       "      <td>PTron</td>\n",
       "      <td>PTron Newly Launched Force X10 Bluetooth Calli...</td>\n",
       "      <td>1,485</td>\n",
       "      <td>tomorrow, December 2</td>\n",
       "    </tr>\n",
       "    <tr>\n",
       "      <th>8</th>\n",
       "      <td>MMOBIEL</td>\n",
       "      <td>Watch Tool Stainless Steel Handle Compatible w...</td>\n",
       "      <td>219</td>\n",
       "      <td>tomorrow, December 2</td>\n",
       "    </tr>\n",
       "    <tr>\n",
       "      <th>9</th>\n",
       "      <td>TIMEWEAR</td>\n",
       "      <td>Analog Day Date Functioning Golden Case Brown ...</td>\n",
       "      <td>799</td>\n",
       "      <td>tomorrow, December 2</td>\n",
       "    </tr>\n",
       "    <tr>\n",
       "      <th>10</th>\n",
       "      <td>ASGARD</td>\n",
       "      <td>Multi Functional Sports Digital Multicolor Dia...</td>\n",
       "      <td>1,499</td>\n",
       "      <td>Saturday, December 3</td>\n",
       "    </tr>\n",
       "    <tr>\n",
       "      <th>11</th>\n",
       "      <td>Noise</td>\n",
       "      <td>Noise ColorFit Pulse Spo2 Smart Watch with 10 ...</td>\n",
       "      <td>349</td>\n",
       "      <td>tomorrow, December 2</td>\n",
       "    </tr>\n",
       "    <tr>\n",
       "      <th>12</th>\n",
       "      <td>Espoir</td>\n",
       "      <td>Stainless Steel Day and Date Blue Dial Analog ...</td>\n",
       "      <td>339</td>\n",
       "      <td>Saturday, December 3</td>\n",
       "    </tr>\n",
       "    <tr>\n",
       "      <th>13</th>\n",
       "      <td>SF</td>\n",
       "      <td>Sporty Analog Black Dial Men's Watch-NL7930PP0...</td>\n",
       "      <td>275</td>\n",
       "      <td>Tuesday, December 6</td>\n",
       "    </tr>\n",
       "    <tr>\n",
       "      <th>14</th>\n",
       "      <td>HeartInk</td>\n",
       "      <td>BTS Bangtan Boys Theme Fan Art Made Hand Analo...</td>\n",
       "      <td>1,799</td>\n",
       "      <td>Saturday, December 3</td>\n",
       "    </tr>\n",
       "    <tr>\n",
       "      <th>15</th>\n",
       "      <td>HEMT</td>\n",
       "      <td>Gold Dial Day n Date Display Analog Wrist Watc...</td>\n",
       "      <td>249</td>\n",
       "      <td>Saturday, December 3</td>\n",
       "    </tr>\n",
       "    <tr>\n",
       "      <th>16</th>\n",
       "      <td>Fastrack</td>\n",
       "      <td>Reflex 3.0 Unisex Activity Tracker - Full Touc...</td>\n",
       "      <td>625</td>\n",
       "      <td>Sunday, December 4</td>\n",
       "    </tr>\n",
       "    <tr>\n",
       "      <th>17</th>\n",
       "      <td>ExcluZiva Gallery</td>\n",
       "      <td>ExcluZiva Gallery Kids Barbie Princess Theme L...</td>\n",
       "      <td>499</td>\n",
       "      <td>tomorrow, December 2</td>\n",
       "    </tr>\n",
       "    <tr>\n",
       "      <th>18</th>\n",
       "      <td>TIMEX</td>\n",
       "      <td>Analog Beige Dial Men's Watch-TW000U930</td>\n",
       "      <td>389</td>\n",
       "      <td>tomorrow, December 2</td>\n",
       "    </tr>\n",
       "    <tr>\n",
       "      <th>19</th>\n",
       "      <td>Dobariya Enterprise</td>\n",
       "      <td>Dobariya Enterprise's Hand Gesture Remote Cont...</td>\n",
       "      <td>2,295</td>\n",
       "      <td>tomorrow, December 2</td>\n",
       "    </tr>\n",
       "    <tr>\n",
       "      <th>20</th>\n",
       "      <td>Emartos</td>\n",
       "      <td>Analogue Black Dial Arrow Watch For Men's And ...</td>\n",
       "      <td>299</td>\n",
       "      <td>Monday, December 5</td>\n",
       "    </tr>\n",
       "    <tr>\n",
       "      <th>21</th>\n",
       "      <td>TIMEWEAR</td>\n",
       "      <td>Analog Two Hands Leather Strap Slim Watch for Men</td>\n",
       "      <td>1,886</td>\n",
       "      <td>tomorrow, December 2</td>\n",
       "    </tr>\n",
       "    <tr>\n",
       "      <th>22</th>\n",
       "      <td>SWADESI STUFF</td>\n",
       "      <td>Black Metal Strap Watch Series Analogue Men's ...</td>\n",
       "      <td>507</td>\n",
       "      <td>tomorrow, December 2</td>\n",
       "    </tr>\n",
       "    <tr>\n",
       "      <th>23</th>\n",
       "      <td>TIMEWEAR</td>\n",
       "      <td>Slim Two Hands Genuine Leather Strap Watch for...</td>\n",
       "      <td>379</td>\n",
       "      <td>Saturday, December 3</td>\n",
       "    </tr>\n",
       "    <tr>\n",
       "      <th>24</th>\n",
       "      <td>Sonata</td>\n",
       "      <td>Steel Daisies Analog Silver Dial Women's Watch...</td>\n",
       "      <td>249</td>\n",
       "      <td>Saturday, December 3</td>\n",
       "    </tr>\n",
       "    <tr>\n",
       "      <th>25</th>\n",
       "      <td>SHOPTOSHOP</td>\n",
       "      <td>Smart Band Bluetooth Health Wrist Smart Band M...</td>\n",
       "      <td>379</td>\n",
       "      <td>tomorrow, December 2</td>\n",
       "    </tr>\n",
       "    <tr>\n",
       "      <th>26</th>\n",
       "      <td>Acnos</td>\n",
       "      <td>Brand - Analogue Men's Watch (Black Dial Multi...</td>\n",
       "      <td>1,199</td>\n",
       "      <td>tomorrow, December 2</td>\n",
       "    </tr>\n",
       "    <tr>\n",
       "      <th>27</th>\n",
       "      <td>Acnos</td>\n",
       "      <td>Black Dial Combo Analogue Watches for Men Pack...</td>\n",
       "      <td>499</td>\n",
       "      <td>Saturday, December 3</td>\n",
       "    </tr>\n",
       "    <tr>\n",
       "      <th>28</th>\n",
       "      <td>TIMEWEAR</td>\n",
       "      <td>Analog Minute Track Dial Stainless Steel Chain...</td>\n",
       "      <td>294</td>\n",
       "      <td>Saturday, December 3</td>\n",
       "    </tr>\n",
       "    <tr>\n",
       "      <th>29</th>\n",
       "      <td>VILLS LAURRENS</td>\n",
       "      <td>VL-8009 All Black Metal Strap with Two Tone Wa...</td>\n",
       "      <td>304</td>\n",
       "      <td>tomorrow, December 2</td>\n",
       "    </tr>\n",
       "    <tr>\n",
       "      <th>30</th>\n",
       "      <td>PIRASO</td>\n",
       "      <td>Analog Day and Date Working Black DIAL Silver ...</td>\n",
       "      <td>309</td>\n",
       "      <td>Saturday, December 3</td>\n",
       "    </tr>\n",
       "    <tr>\n",
       "      <th>31</th>\n",
       "      <td>Titan</td>\n",
       "      <td>Analog Champagne Dial Stainless Steel Strap Me...</td>\n",
       "      <td>349</td>\n",
       "      <td>Saturday, December 3</td>\n",
       "    </tr>\n",
       "    <tr>\n",
       "      <th>32</th>\n",
       "      <td>YOUTH CLUB</td>\n",
       "      <td>DG-1257, Black Color New Trending Full Black R...</td>\n",
       "      <td>419</td>\n",
       "      <td>Saturday, December 3</td>\n",
       "    </tr>\n",
       "    <tr>\n",
       "      <th>33</th>\n",
       "      <td>REDUX</td>\n",
       "      <td>RWS0202S Analogue Blue &amp; Grey Dial Men's &amp; Boy...</td>\n",
       "      <td>2,396</td>\n",
       "      <td>Tuesday, December 6</td>\n",
       "    </tr>\n",
       "    <tr>\n",
       "      <th>34</th>\n",
       "      <td>hamt</td>\n",
       "      <td>Analogue Men's Watch (Gold Dial Gold Colored S...</td>\n",
       "      <td>370</td>\n",
       "      <td>Saturday, December 3</td>\n",
       "    </tr>\n",
       "    <tr>\n",
       "      <th>35</th>\n",
       "      <td>FROZIL</td>\n",
       "      <td>Analog and Digital Round Square Multi Dial Com...</td>\n",
       "      <td>315</td>\n",
       "      <td>Saturday, December 3</td>\n",
       "    </tr>\n",
       "    <tr>\n",
       "      <th>36</th>\n",
       "      <td>Titan</td>\n",
       "      <td>Ladies Neo-Ii Analog Black Dial Women's Watch-...</td>\n",
       "      <td>379</td>\n",
       "      <td>Saturday, December 3</td>\n",
       "    </tr>\n",
       "    <tr>\n",
       "      <th>37</th>\n",
       "      <td>Sonata</td>\n",
       "      <td>Analog White Dial Men's Watch-NL77049YM03/NP77...</td>\n",
       "      <td>380</td>\n",
       "      <td>tomorrow, December 2</td>\n",
       "    </tr>\n",
       "    <tr>\n",
       "      <th>38</th>\n",
       "      <td>PIRASO</td>\n",
       "      <td>Analog Day and Date Working DIAL Silver Chain ...</td>\n",
       "      <td>2,995</td>\n",
       "      <td>Saturday, December 3</td>\n",
       "    </tr>\n",
       "    <tr>\n",
       "      <th>39</th>\n",
       "      <td>ZEBRONICS</td>\n",
       "      <td>Zebronics DRIP Smart Watch with Bluetooth Call...</td>\n",
       "      <td>849</td>\n",
       "      <td>Saturday, December 3</td>\n",
       "    </tr>\n",
       "    <tr>\n",
       "      <th>40</th>\n",
       "      <td>LOUIS DEVIN</td>\n",
       "      <td>Men's Watch (Silver Colored Strap)</td>\n",
       "      <td>399</td>\n",
       "      <td>Thursday, December 8</td>\n",
       "    </tr>\n",
       "    <tr>\n",
       "      <th>41</th>\n",
       "      <td>ASGARD</td>\n",
       "      <td>Multi Functional Sports Digital Dial Men's Watch</td>\n",
       "      <td>1,799</td>\n",
       "      <td>Monday, December 12</td>\n",
       "    </tr>\n",
       "    <tr>\n",
       "      <th>42</th>\n",
       "      <td>SDF</td>\n",
       "      <td>Outdoor &amp; Indoor Flying Watch Helicopter with ...</td>\n",
       "      <td>359</td>\n",
       "      <td>tomorrow, December 2</td>\n",
       "    </tr>\n",
       "    <tr>\n",
       "      <th>43</th>\n",
       "      <td>Titan</td>\n",
       "      <td>Neo Analog Silver Dial Men's Watch-NL1767SL01/...</td>\n",
       "      <td>299</td>\n",
       "      <td>Saturday, December 3</td>\n",
       "    </tr>\n",
       "    <tr>\n",
       "      <th>44</th>\n",
       "      <td>Decode</td>\n",
       "      <td>Analogue Men's Watch (Black Dial Black Colored...</td>\n",
       "      <td>999</td>\n",
       "      <td>Saturday, December 3</td>\n",
       "    </tr>\n",
       "    <tr>\n",
       "      <th>45</th>\n",
       "      <td>HEMT</td>\n",
       "      <td>Analog Black Dial Men's Watch-HM-GR092-BLK-CH</td>\n",
       "      <td>3,795</td>\n",
       "      <td>Tuesday, December 6</td>\n",
       "    </tr>\n",
       "    <tr>\n",
       "      <th>46</th>\n",
       "      <td>DAINTY</td>\n",
       "      <td>DAINTYSH-079 Sport Watch Rubber Strap Tees Boy...</td>\n",
       "      <td>332</td>\n",
       "      <td>Tuesday, December 6</td>\n",
       "    </tr>\n",
       "    <tr>\n",
       "      <th>47</th>\n",
       "      <td>CERO</td>\n",
       "      <td>Analogue Black Dial Metal Strap and King Brace...</td>\n",
       "      <td>249</td>\n",
       "      <td>tomorrow, December 2</td>\n",
       "    </tr>\n",
       "    <tr>\n",
       "      <th>48</th>\n",
       "      <td>Fastrack</td>\n",
       "      <td>Fastrack Reflex 2C Unisex Activity Tracker - F...</td>\n",
       "      <td>159</td>\n",
       "      <td>tomorrow, December 2</td>\n",
       "    </tr>\n",
       "    <tr>\n",
       "      <th>49</th>\n",
       "      <td>Titan</td>\n",
       "      <td>Regalia Baron Analog Silver Dial Men's Watch-N...</td>\n",
       "      <td>299</td>\n",
       "      <td>Saturday, December 3</td>\n",
       "    </tr>\n",
       "  </tbody>\n",
       "</table>\n",
       "</div>"
      ],
      "text/plain": [
       "             brand_name                                      product_names  \\\n",
       "0                FROZIL  Digital Watch Shockproof Multi-Functional Auto...   \n",
       "1             DOUBLERUN  9001_3D Glass Date Display Dial Chain Belt Ana...   \n",
       "2             Doublerun  DD4_8017 3D Glass Date Display White Dial Anal...   \n",
       "3         SWADESI STUFF  Analogue Boy's & Girl's Watch (Multicolored Di...   \n",
       "4              Fastrack                          Analog Dial Women's Watch   \n",
       "5              SELLORIA   S Shock Digital Kids Watch for Boys [7-30 Years]   \n",
       "6                 SKMEI  Simple Digital Men’s Military Watches Waterpro...   \n",
       "7                 PTron  PTron Newly Launched Force X10 Bluetooth Calli...   \n",
       "8               MMOBIEL  Watch Tool Stainless Steel Handle Compatible w...   \n",
       "9              TIMEWEAR  Analog Day Date Functioning Golden Case Brown ...   \n",
       "10               ASGARD  Multi Functional Sports Digital Multicolor Dia...   \n",
       "11                Noise  Noise ColorFit Pulse Spo2 Smart Watch with 10 ...   \n",
       "12               Espoir  Stainless Steel Day and Date Blue Dial Analog ...   \n",
       "13                   SF  Sporty Analog Black Dial Men's Watch-NL7930PP0...   \n",
       "14             HeartInk  BTS Bangtan Boys Theme Fan Art Made Hand Analo...   \n",
       "15                 HEMT  Gold Dial Day n Date Display Analog Wrist Watc...   \n",
       "16             Fastrack  Reflex 3.0 Unisex Activity Tracker - Full Touc...   \n",
       "17    ExcluZiva Gallery  ExcluZiva Gallery Kids Barbie Princess Theme L...   \n",
       "18                TIMEX            Analog Beige Dial Men's Watch-TW000U930   \n",
       "19  Dobariya Enterprise  Dobariya Enterprise's Hand Gesture Remote Cont...   \n",
       "20              Emartos  Analogue Black Dial Arrow Watch For Men's And ...   \n",
       "21             TIMEWEAR  Analog Two Hands Leather Strap Slim Watch for Men   \n",
       "22        SWADESI STUFF  Black Metal Strap Watch Series Analogue Men's ...   \n",
       "23             TIMEWEAR  Slim Two Hands Genuine Leather Strap Watch for...   \n",
       "24               Sonata  Steel Daisies Analog Silver Dial Women's Watch...   \n",
       "25           SHOPTOSHOP  Smart Band Bluetooth Health Wrist Smart Band M...   \n",
       "26                Acnos  Brand - Analogue Men's Watch (Black Dial Multi...   \n",
       "27                Acnos  Black Dial Combo Analogue Watches for Men Pack...   \n",
       "28             TIMEWEAR  Analog Minute Track Dial Stainless Steel Chain...   \n",
       "29       VILLS LAURRENS  VL-8009 All Black Metal Strap with Two Tone Wa...   \n",
       "30               PIRASO  Analog Day and Date Working Black DIAL Silver ...   \n",
       "31                Titan  Analog Champagne Dial Stainless Steel Strap Me...   \n",
       "32           YOUTH CLUB  DG-1257, Black Color New Trending Full Black R...   \n",
       "33                REDUX  RWS0202S Analogue Blue & Grey Dial Men's & Boy...   \n",
       "34                 hamt  Analogue Men's Watch (Gold Dial Gold Colored S...   \n",
       "35               FROZIL  Analog and Digital Round Square Multi Dial Com...   \n",
       "36                Titan  Ladies Neo-Ii Analog Black Dial Women's Watch-...   \n",
       "37               Sonata  Analog White Dial Men's Watch-NL77049YM03/NP77...   \n",
       "38               PIRASO  Analog Day and Date Working DIAL Silver Chain ...   \n",
       "39            ZEBRONICS  Zebronics DRIP Smart Watch with Bluetooth Call...   \n",
       "40          LOUIS DEVIN                 Men's Watch (Silver Colored Strap)   \n",
       "41               ASGARD   Multi Functional Sports Digital Dial Men's Watch   \n",
       "42                  SDF  Outdoor & Indoor Flying Watch Helicopter with ...   \n",
       "43                Titan  Neo Analog Silver Dial Men's Watch-NL1767SL01/...   \n",
       "44               Decode  Analogue Men's Watch (Black Dial Black Colored...   \n",
       "45                 HEMT      Analog Black Dial Men's Watch-HM-GR092-BLK-CH   \n",
       "46               DAINTY  DAINTYSH-079 Sport Watch Rubber Strap Tees Boy...   \n",
       "47                 CERO  Analogue Black Dial Metal Strap and King Brace...   \n",
       "48             Fastrack  Fastrack Reflex 2C Unisex Activity Tracker - F...   \n",
       "49                Titan  Regalia Baron Analog Silver Dial Men's Watch-N...   \n",
       "\n",
       "    price          expect_delvy  \n",
       "0   1,099   Tuesday, December 6  \n",
       "1     999   Tuesday, December 6  \n",
       "2     599   Tuesday, December 6  \n",
       "3     280    Monday, December 5  \n",
       "4     499  Saturday, December 3  \n",
       "5     389   Tuesday, December 6  \n",
       "6     189  Saturday, December 3  \n",
       "7   1,485  tomorrow, December 2  \n",
       "8     219  tomorrow, December 2  \n",
       "9     799  tomorrow, December 2  \n",
       "10  1,499  Saturday, December 3  \n",
       "11    349  tomorrow, December 2  \n",
       "12    339  Saturday, December 3  \n",
       "13    275   Tuesday, December 6  \n",
       "14  1,799  Saturday, December 3  \n",
       "15    249  Saturday, December 3  \n",
       "16    625    Sunday, December 4  \n",
       "17    499  tomorrow, December 2  \n",
       "18    389  tomorrow, December 2  \n",
       "19  2,295  tomorrow, December 2  \n",
       "20    299    Monday, December 5  \n",
       "21  1,886  tomorrow, December 2  \n",
       "22    507  tomorrow, December 2  \n",
       "23    379  Saturday, December 3  \n",
       "24    249  Saturday, December 3  \n",
       "25    379  tomorrow, December 2  \n",
       "26  1,199  tomorrow, December 2  \n",
       "27    499  Saturday, December 3  \n",
       "28    294  Saturday, December 3  \n",
       "29    304  tomorrow, December 2  \n",
       "30    309  Saturday, December 3  \n",
       "31    349  Saturday, December 3  \n",
       "32    419  Saturday, December 3  \n",
       "33  2,396   Tuesday, December 6  \n",
       "34    370  Saturday, December 3  \n",
       "35    315  Saturday, December 3  \n",
       "36    379  Saturday, December 3  \n",
       "37    380  tomorrow, December 2  \n",
       "38  2,995  Saturday, December 3  \n",
       "39    849  Saturday, December 3  \n",
       "40    399  Thursday, December 8  \n",
       "41  1,799   Monday, December 12  \n",
       "42    359  tomorrow, December 2  \n",
       "43    299  Saturday, December 3  \n",
       "44    999  Saturday, December 3  \n",
       "45  3,795   Tuesday, December 6  \n",
       "46    332   Tuesday, December 6  \n",
       "47    249  tomorrow, December 2  \n",
       "48    159  tomorrow, December 2  \n",
       "49    299  Saturday, December 3  "
      ]
     },
     "execution_count": 126,
     "metadata": {},
     "output_type": "execute_result"
    }
   ],
   "source": [
    "handwatch = pd.DataFrame()\n",
    "handwatch['brand_name'] = brand_name\n",
    "handwatch['product_names'] = product_names\n",
    "handwatch ['price'] = price\n",
    "handwatch['expect_delvy'] = expect_delvy\n",
    "\n",
    "handwatch [0:50]"
   ]
  },
  {
   "cell_type": "markdown",
   "id": "b872088d",
   "metadata": {},
   "source": [
    "## Q4"
   ]
  },
  {
   "cell_type": "code",
   "execution_count": 1,
   "id": "9686c6ee",
   "metadata": {},
   "outputs": [],
   "source": [
    "import selenium\n",
    "from selenium import webdriver\n",
    "import pandas as pd\n",
    "from selenium.webdriver.common.by import By\n",
    "import warnings\n",
    "warnings.filterwarnings(\"ignore\")\n",
    "import time"
   ]
  },
  {
   "cell_type": "code",
   "execution_count": 2,
   "id": "30d1bc42",
   "metadata": {},
   "outputs": [],
   "source": [
    "driver = webdriver.Chrome(r'C:\\Users\\Administrator\\Downloads\\chromedriver_win32.zip\\chromedriver.exe')\n"
   ]
  },
  {
   "cell_type": "code",
   "execution_count": 3,
   "id": "707665d7",
   "metadata": {},
   "outputs": [],
   "source": [
    "driver.maximize_window()"
   ]
  },
  {
   "cell_type": "code",
   "execution_count": 4,
   "id": "30fb6bf2",
   "metadata": {},
   "outputs": [],
   "source": [
    "URL = 'https://www.flipkart.com/'\n",
    "driver.get(URL)"
   ]
  },
  {
   "cell_type": "code",
   "execution_count": 24,
   "id": "914fc2ee",
   "metadata": {},
   "outputs": [],
   "source": [
    "search_btn = driver.find_element(By.XPATH,'/html/body/div[1]/div/div[1]/div[1]/div[2]/div[2]/form/div/div/input')\n",
    "search_btn.send_keys(\"pixel 4A\")"
   ]
  },
  {
   "cell_type": "code",
   "execution_count": 25,
   "id": "19730111",
   "metadata": {},
   "outputs": [],
   "source": [
    "search_btn = driver.find_element(By.XPATH,'/html/body/div[1]/div/div[1]/div[1]/div[2]/div[2]/form/div/button')\n",
    "search_btn.click()"
   ]
  },
  {
   "cell_type": "code",
   "execution_count": 9,
   "id": "cddfa123",
   "metadata": {},
   "outputs": [
    {
     "data": {
      "text/plain": [
       "['Google Pixel 4a (Just Black, 128 GB)',\n",
       " 'realme C33 (Night Sea, 32 GB)',\n",
       " 'realme C33 (Sandy Gold, 32 GB)',\n",
       " 'realme C33 (Night Sea, 64 GB)',\n",
       " 'realme C33 (Sandy Gold, 64 GB)',\n",
       " 'vivo T1 44W (Midnight Galaxy, 128 GB)',\n",
       " 'vivo T1 44W (Starry Sky, 128 GB)',\n",
       " 'vivo T1 44W (Starry Sky, 128 GB)',\n",
       " 'REDMI 10 Prime (Phantom Black, 128 GB)',\n",
       " 'Infinix Smart 6 (Light Sea Green, 64 GB)',\n",
       " 'vivo T1 44W (Midnight Galaxy, 128 GB)',\n",
       " 'vivo T1 44W (Midnight Galaxy, 128 GB)',\n",
       " 'Infinix Smart 6 (Heart Of Ocean, 64 GB)',\n",
       " 'Infinix Smart 6 (Starry Purple, 64 GB)',\n",
       " 'Infinix Smart 6 (Polar Black, 64 GB)',\n",
       " 'REDMI 10 Prime (Astral White, 128 GB)',\n",
       " 'vivo T1 44W (Starry Sky, 128 GB)',\n",
       " 'Redmi 9A Sport (Coral Green, 32 GB)',\n",
       " 'Google Pixel 7 (Obsidian, 128 GB)',\n",
       " 'Google Pixel 7 Pro (Snow, 128 GB)',\n",
       " 'vivo Y16 (Drizzling Gold, 64 GB)',\n",
       " 'Redmi 9A Sport (Metallic Blue, 32 GB)',\n",
       " 'vivo T1 Pro 5G (Turbo Black, 128 GB)',\n",
       " 'REDMI Note 10 Pro Max (Vintage Bronze, 128 GB)']"
      ]
     },
     "execution_count": 9,
     "metadata": {},
     "output_type": "execute_result"
    }
   ],
   "source": [
    "brand_name = []\n",
    "name_tags = driver.find_elements(By.XPATH,\"//div[@class='_4rR01T']\")\n",
    "for i in name_tags: \n",
    "    brand_name.append(i.text)\n",
    "    \n",
    "\n",
    "\n",
    "brand_name "
   ]
  },
  {
   "cell_type": "code",
   "execution_count": 19,
   "id": "70f110e0",
   "metadata": {},
   "outputs": [
    {
     "data": {
      "text/plain": [
       "['6 GB RAM | 128 GB ROM']"
      ]
     },
     "execution_count": 19,
     "metadata": {},
     "output_type": "execute_result"
    }
   ],
   "source": [
    "storage = []\n",
    "storage_range = driver.find_elements(By.XPATH,\"/html/body/div[1]/div/div[3]/div[1]/div[2]/div[2]/div/div/div/a/div[2]/div[1]/div[3]/ul/li[1]\")\n",
    "for i in storage_range: \n",
    "    storage.append(i.text)\n",
    "    \n",
    "storage "
   ]
  },
  {
   "cell_type": "markdown",
   "id": "f5d63e39",
   "metadata": {},
   "source": [
    "## Q10"
   ]
  },
  {
   "cell_type": "code",
   "execution_count": 1,
   "id": "edbfd1f6",
   "metadata": {},
   "outputs": [],
   "source": [
    "import selenium\n",
    "from selenium import webdriver\n",
    "import pandas as pd\n",
    "from selenium.webdriver.common.by import By\n",
    "import warnings\n",
    "warnings.filterwarnings(\"ignore\")\n",
    "import time"
   ]
  },
  {
   "cell_type": "code",
   "execution_count": 2,
   "id": "a2615c39",
   "metadata": {},
   "outputs": [],
   "source": [
    "driver = webdriver.Chrome(r'C:\\Users\\Administrator\\Downloads\\chromedriver_win32.zip\\chromedriver.exe')\n"
   ]
  },
  {
   "cell_type": "code",
   "execution_count": 3,
   "id": "ae92cf77",
   "metadata": {},
   "outputs": [],
   "source": [
    "driver.maximize_window()"
   ]
  },
  {
   "cell_type": "code",
   "execution_count": 4,
   "id": "0796c00a",
   "metadata": {},
   "outputs": [],
   "source": [
    "url = 'https://www.hostelworld.com/'\n",
    "driver.get(url)"
   ]
  },
  {
   "cell_type": "code",
   "execution_count": 11,
   "id": "861833d0",
   "metadata": {},
   "outputs": [],
   "source": [
    "search_loc = driver.find_element(By.XPATH,\"//input[@class='search-input']\")\n",
    "search_loc.send_keys(\"london, England\")"
   ]
  },
  {
   "cell_type": "code",
   "execution_count": 18,
   "id": "e2b63c99",
   "metadata": {},
   "outputs": [],
   "source": [
    "lets_go = driver.find_element(By.XPATH,\"//button[@class='button primary large']\")\n",
    "lets_go.click()"
   ]
  },
  {
   "cell_type": "code",
   "execution_count": 19,
   "id": "6ca2b384",
   "metadata": {},
   "outputs": [
    {
     "data": {
      "text/plain": [
       "['Astor Hyde Park',\n",
       " 'Generator London',\n",
       " 'Safestay London Elephant & Castle',\n",
       " 'Smart Russell Square Hostel',\n",
       " 'Safestay London Kensington Holland Park',\n",
       " 'No.8 Willesden Hostel London',\n",
       " 'Astor Museum Inn',\n",
       " 'No.8 Seven Sisters',\n",
       " 'Smart Camden Inn Hostel',\n",
       " 'Smart Hyde Park Inn Hostel',\n",
       " 'NX London Hostel',\n",
       " 'Destinations Hostels @ The Gallery',\n",
       " 'Queen Elizabeth Chelsea',\n",
       " 'Astor Victoria',\n",
       " 'Smart Hyde Park View Hostel',\n",
       " 'Saint James Backpackers',\n",
       " 'Astor Kensington',\n",
       " 'Kensal Green Backpackers',\n",
       " 'Strand Continental',\n",
       " 'Selina Camden',\n",
       " 'London Waterloo Hostel',\n",
       " 'Chester Hotel Victoria',\n",
       " 'London House Hotel',\n",
       " 'TLK Apartments & Hotel',\n",
       " 'Kip Hotel',\n",
       " 'The W14 Hotel & Bar',\n",
       " 'Colliers Hotel',\n",
       " 'Paramount Hotel',\n",
       " 'Barry House',\n",
       " 'Victor Hotel']"
      ]
     },
     "execution_count": 19,
     "metadata": {},
     "output_type": "execute_result"
    }
   ],
   "source": [
    "hostel_name = []\n",
    "hostel_tags = driver.find_elements(By.XPATH,\"//h2[@class='title title-6']\")\n",
    "for i in hostel_tags:\n",
    "    hostel_name.append(i.text)\n",
    "    \n",
    "\n",
    "\n",
    "hostel_name\n",
    "                 "
   ]
  },
  {
   "cell_type": "code",
   "execution_count": 20,
   "id": "c9e0886a",
   "metadata": {},
   "outputs": [
    {
     "data": {
      "text/plain": [
       "['Hostel - 4.3km from city centre Show on Map',\n",
       " 'Hostel - 3km from city centre Show on Map',\n",
       " 'Hostel - 1.7km from city centre Show on Map',\n",
       " 'Hostel - 2.6km from city centre Show on Map',\n",
       " 'Hostel - 5.9km from city centre Show on Map',\n",
       " 'Hostel - 10km from city centre Show on Map',\n",
       " 'Hostel - 2.2km from city centre Show on Map',\n",
       " 'Hostel - 9km from city centre Show on Map',\n",
       " 'Hostel - 4.4km from city centre Show on Map',\n",
       " 'Hostel - 5km from city centre Show on Map',\n",
       " 'Hostel - 6.1km from city centre Show on Map',\n",
       " 'Hostel - 1.7km from city centre Show on Map',\n",
       " 'Hostel - 5.7km from city centre Show on Map',\n",
       " 'Hostel - 1.8km from city centre Show on Map',\n",
       " 'Hostel - 5km from city centre Show on Map',\n",
       " 'Hostel - 5.5km from city centre Show on Map',\n",
       " 'Hostel - 4.9km from city centre Show on Map',\n",
       " 'Hostel - 8.2km from city centre Show on Map',\n",
       " 'Hostel - 1.3km from city centre Show on Map',\n",
       " 'Hostel - 5.5km from city centre Show on Map',\n",
       " 'Hostel - 0.7km from city centre Show on Map',\n",
       " 'Hotel - 1.9km from city centre Show on Map',\n",
       " 'Hotel - 5.3km from city centre Show on Map',\n",
       " 'Hotel - 19.9km from city centre Show on Map',\n",
       " 'Hotel - 6.8km from city centre Show on Map',\n",
       " 'Hotel - 6.5km from city centre Show on Map',\n",
       " 'Hotel - 2.1km from city centre Show on Map',\n",
       " 'Hotel - 5.7km from city centre Show on Map',\n",
       " 'Bed and Breakfast - 4.2km from city centre Show on Map',\n",
       " 'Hotel - 1.8km from city centre Show on Map']"
      ]
     },
     "execution_count": 20,
     "metadata": {},
     "output_type": "execute_result"
    }
   ],
   "source": [
    "dist_centre = []\n",
    "dist_city = driver.find_elements(By.XPATH,\"//div[@class='subtitle body-3']\")\n",
    "for i in dist_city:\n",
    "    dist_centre.append(i.text)\n",
    "    \n",
    "\n",
    "\n",
    "dist_centre\n",
    "                 "
   ]
  },
  {
   "cell_type": "code",
   "execution_count": 21,
   "id": "a88a82dd",
   "metadata": {},
   "outputs": [
    {
     "data": {
      "text/plain": [
       "['8.6',\n",
       " '7.7',\n",
       " '7.2',\n",
       " '7.1',\n",
       " '6.8',\n",
       " '6.8',\n",
       " '8.1',\n",
       " '8.3',\n",
       " '7.5',\n",
       " '7.6',\n",
       " '9.4',\n",
       " '7.4',\n",
       " '7.6',\n",
       " '8.0',\n",
       " '7.5',\n",
       " '8.1',\n",
       " '7.1',\n",
       " '8.6',\n",
       " '7.0',\n",
       " '9.4',\n",
       " '7.7',\n",
       " '8.4',\n",
       " '6.3',\n",
       " '7.1']"
      ]
     },
     "execution_count": 21,
     "metadata": {},
     "output_type": "execute_result"
    }
   ],
   "source": [
    "rating = []\n",
    "rating_score = driver.find_elements(By.XPATH,\"//div[@class='score orange big']\")\n",
    "for i in rating_score:\n",
    "    rating.append(i.text)\n",
    "    \n",
    "\n",
    "\n",
    "rating\n",
    "                 "
   ]
  },
  {
   "cell_type": "code",
   "execution_count": 48,
   "id": "f5c13e36",
   "metadata": {},
   "outputs": [
    {
     "data": {
      "text/plain": [
       "['11791 Total Reviews',\n",
       " '7267 Total Reviews',\n",
       " '4706 Total Reviews',\n",
       " '9833 Total Reviews',\n",
       " '1384 Total Reviews',\n",
       " '4897 Total Reviews',\n",
       " '9121 Total Reviews',\n",
       " '3917 Total Reviews',\n",
       " '2986 Total Reviews',\n",
       " '6430 Total Reviews',\n",
       " '1364 Total Reviews',\n",
       " '81 Total Reviews',\n",
       " '3360 Total Reviews',\n",
       " '14859 Total Reviews',\n",
       " '4639 Total Reviews',\n",
       " '1849 Total Reviews',\n",
       " '6446 Total Reviews',\n",
       " '3676 Total Reviews',\n",
       " '921 Total Reviews',\n",
       " '41 Total Reviews',\n",
       " '2518 Total Reviews',\n",
       " '165 Total Reviews',\n",
       " '1382 Total Reviews',\n",
       " '0 Total Reviews',\n",
       " '55 Total Reviews',\n",
       " '282 Total Reviews',\n",
       " '9 Total Reviews',\n",
       " '31 Total Reviews',\n",
       " '16 Total Reviews',\n",
       " '2 Total Reviews']"
      ]
     },
     "execution_count": 48,
     "metadata": {},
     "output_type": "execute_result"
    }
   ],
   "source": [
    "total_review = []\n",
    "review_score = driver.find_elements(By.XPATH,\"//div[@class='reviews']\")\n",
    "for i in review_score:\n",
    "    total_review.append(i.text)\n",
    "    \n",
    "\n",
    "total_review\n",
    "                 "
   ]
  },
  {
   "cell_type": "code",
   "execution_count": 49,
   "id": "5e3785c1",
   "metadata": {},
   "outputs": [
    {
     "data": {
      "text/plain": [
       "['Rs3312',\n",
       " 'Rs16625',\n",
       " 'Rs3927',\n",
       " 'Rs20023',\n",
       " 'Rs4481',\n",
       " 'Rs10739',\n",
       " 'Rs2428',\n",
       " 'Rs13825',\n",
       " 'Rs4291',\n",
       " 'Rs3788',\n",
       " 'Rs1944',\n",
       " 'Rs11724',\n",
       " 'Rs3461',\n",
       " 'Rs1817',\n",
       " 'Rs12267',\n",
       " 'Rs2329',\n",
       " 'Rs12923.49 Rs11631',\n",
       " 'Rs2072.59 Rs1865',\n",
       " 'Rs8105.35 Rs6079',\n",
       " 'Rs2008.63 Rs1506',\n",
       " 'Rs4273',\n",
       " 'Rs2135.91 Rs1880',\n",
       " 'Rs3291',\n",
       " 'Rs10711',\n",
       " 'Rs2492',\n",
       " 'Rs18792',\n",
       " 'Rs6392',\n",
       " 'Rs3319',\n",
       " 'Rs1511',\n",
       " 'Rs8758',\n",
       " 'Rs3877',\n",
       " 'Rs18764.17 Rs15011',\n",
       " 'Rs14698.97 Rs13964',\n",
       " 'Rs3593.51 Rs3414',\n",
       " 'Rs19380',\n",
       " 'Rs21650 Rs15155',\n",
       " 'Rs8476',\n",
       " 'Rs8214',\n",
       " 'Rs14203',\n",
       " 'Rs8786',\n",
       " 'Rs9916',\n",
       " 'Rs6872',\n",
       " 'Rs15154']"
      ]
     },
     "execution_count": 49,
     "metadata": {},
     "output_type": "execute_result"
    }
   ],
   "source": [
    "dorms_price = []\n",
    "dorms_range = driver.find_elements(By.XPATH,\"//div[@class='price title-5']\")\n",
    "for i in dorms_range:\n",
    "    dorms_price.append(i.text)\n",
    "    \n",
    "\n",
    "dorms_price"
   ]
  },
  {
   "cell_type": "code",
   "execution_count": 54,
   "id": "361741d2",
   "metadata": {},
   "outputs": [],
   "source": [
    "search_view = driver.find_element(By.XPATH,\"//a[@class='view-button']\")\n",
    "search_view.click()\n"
   ]
  },
  {
   "cell_type": "code",
   "execution_count": 57,
   "id": "697bfc24",
   "metadata": {},
   "outputs": [
    {
     "data": {
      "text/plain": [
       "['Linen Included Free City Maps Free WiFi Free Internet Access',\n",
       " 'Security Lockers Key Card Access Common Room Adaptors Book Exchange Hot Showers Self-Catering Facilities Cable TV Hair Dryers For Hire Hair Dryers Safe Deposit Box Washing Machine Flexible NRR Follows Covid-19 sanitation guidance',\n",
       " 'Internet access Laundry Facilities Towels for hire Luggage Storage 24 Hour Security Housekeeping',\n",
       " 'Vending Machines',\n",
       " 'Wi-Fi']"
      ]
     },
     "execution_count": 57,
     "metadata": {},
     "output_type": "execute_result"
    }
   ],
   "source": [
    "facilities = []\n",
    "facilities_score = driver.find_elements(By.XPATH,\"//ul[@class='facilities']\")\n",
    "for i in facilities_score:\n",
    "    facilities.append(i.text)\n",
    "    \n",
    "\n",
    "facilities"
   ]
  },
  {
   "cell_type": "code",
   "execution_count": 58,
   "id": "3379b286",
   "metadata": {},
   "outputs": [
    {
     "data": {
      "text/plain": [
       "[\"Located in the most beautiful and charming neighbourhood in London, Astor Hyde Park is one minute from Hyde Park and surrounded by some of Londons greatest museums including the Natural History Museum, Victoria & Albert, and Science Museum. The hostel is a short walk from Londons best transport connections, including direct trains to Heathrow Airport and all of Londons attractions. If this wasnt enough, the iconic pubs, excellent shopping, amazing restaurants, and occasional celebrity sighting make it the perfect place to live while in London!\\n\\nThe moment you walk through our doors you become part of our family and we want you to have an incredible experience! We want every detail - from our super clean bathrooms and comfortable pillows to our unforgettable social events - to be perfect, giving you a London adventure that is 10 out of 10!\\n\\nWinner of No.1 Small Hostel Group Worldwide and a Lifetime Achievement Award for excellence in the Hostel Industry. We thrive on ensuring every guest comes satisfied, and if you have any problems along the way, we are always there, ready to help! For this and many other reasons staying at Astor Hostels is the top choice for anyone exploring London on a budget! \\n\\n\\nReception hours (24 hours)\\nCheck-in is available from 2 pm. \\nCheck-out is from any time until 10 am. Please ensure you check out before 10 am; otherwise, you may be charged for an extra night. \\nWe cater for travellers between 18 and 40 years. \\n\\nA valid physical/original photographic government ID (no photo/screenshot) must be presented by all guests upon check-in. This can be a passport, drivers licence, National ID card, Residency permit. Student IDs will not be accepted as proof of identification. The property cannot accept paper driving licences/IDs or employee IDs as proof of identity. Failure to show proof of ID upon arrival will result in the cancellation of the reservation without a refund.\\n\\nKey Card: You will be required to give us a GBP 5 key deposit for your room access card at check-in time. \\n\\nBreakfast: We provide Breakfast every morning, which costs just GBP 3.\\nDairy-free Milk: Coconut/soy/almond/\\nRegular Milk: skimmed and semi-skimmed\\nJuices: Orange and apple\\nInstant coffee, tea and hot chocolate\\nCereals: granola, rice pop, choco pop, honey hoop and cornflakes\\nBread: White and Wholemeal\\n\\nSpreads: White and milk chocolate (Nutella style), peanut butter, regular butter, plant base/dairy-free (butter style) honey, fruit jam (strawberry, raspberry, blackcurrant and apricot) and marmite. \\n(Items may vary depending on availability and hostel)\\n\\nCommon Areas: The kitchen/dining room and common areas are all back open to enjoy a meal or meet fellow travellers (The kitchen and lounges will be shut at midnight and reopening at 8 am). \\n\\n\\nFacilities: Please be aware that our building has no lift and that you may be assigned to one of our top floors and a top bunk bed. \\n\\nEvents: The hostel organises events aimed at backpackers between the ages of 18-40 years.\\n\\nPlease note that all bookings are subject to the signing of the property's terms and conditions via a rental agreement which will be emailed to the guest following their reservation. Please note that all guests must be aged over 18. Underage guests who book will not be accommodated and will not be refunded. When booking for 12 persons or more, different policies will apply.\\n\\nLuggage storage is free on the day of arrival and costs GBP 2 per bag on the day of departure. An extra fee of GBP 7.5 per bag per day applies for the days following check-out. Storage lockers for small valuables are available for GBP 2 per day. Towels are available for rent for GBP 3.\\n\\nAt our fantastic hostel, you will have full access to:\\nFree Fast Wi-Fi throughout the building\\n24-hour reception for anything you may need (including late check-in/early check-out)\\nCCTV is in operation 24 hours a day\\nStorage Lockers available for your valuables GBP 2 per locker per day\\nLaundry facilities are available 24 hours\\nHairdryers and ironing facilities free to use\\nBeautiful lounge area with comfy sofas and an enormous projector screen for movies and sports! \\n\\nHelpful Extras \\nFree City Maps - QR/digital to reduce paper waste \\nTourist Information, walking tours and advice on local attractions and transport (24hrs)\\nPadlocks and Adaptors are available for sale for GBP 5 each\\nDiscounts at local restaurants and coffee shops\\nTowels are available for hire at GBP 3\\nPrinting 0.20p per sheet \\nClean, crisp linen on your bed, ready to sleep on!\\nLate Check-Out is available to sleep in a little more until Midday (book in advance at reception)!\\n\\nPlease Note: For the safety of others, anyone exhibiting symptoms of Covid-19 will be unable to stay at the hostel. Therefore, we recommend you return home if travelling domestically or to use specialist self-isolation accommodation. Self-Isolation - Guests who wish to self-isolate in the hostel must do so in a private room; guests must not perform the self-isolation period if coming from abroad in shared dorms.\",\n",
       " 'It was my first experience at a Hostel and enjoyed it, although it was only for 1 night, the staff was really nice and the dorms and showers were clean. Will certainly be back!',\n",
       " 'Had a wonderful stay at Astor Hyde Park. Despite having a 15-person mixed room, everyone was respectful and clean and super quiet. En-suite bathroom was great. Amazing location close to buses and trains, felt very safe as a solo female traveler. Even went for night walks and morning runs. Met some amazing people hanging out in the common areas, playing music and watching movies. 10/10 experience.']"
      ]
     },
     "execution_count": 58,
     "metadata": {},
     "output_type": "execute_result"
    }
   ],
   "source": [
    "properties = []\n",
    "prvty_dscrptn = driver.find_elements(By.XPATH,\"//div[@class='content collapse-content']\")\n",
    "for i in prvty_dscrptn:\n",
    "    properties.append(i.text)\n",
    "    \n",
    "\n",
    "properties\n"
   ]
  },
  {
   "cell_type": "markdown",
   "id": "ebf66357",
   "metadata": {},
   "source": [
    "## Q09"
   ]
  },
  {
   "cell_type": "code",
   "execution_count": 69,
   "id": "ddd548e1",
   "metadata": {},
   "outputs": [],
   "source": [
    "import selenium\n",
    "from selenium import webdriver\n",
    "import pandas as pd\n",
    "from selenium.webdriver.common.by import By\n",
    "import warnings\n",
    "warnings.filterwarnings(\"ignore\")\n",
    "import time"
   ]
  },
  {
   "cell_type": "code",
   "execution_count": 70,
   "id": "d4b7ff71",
   "metadata": {},
   "outputs": [],
   "source": [
    "driver = webdriver.Chrome(r'C:\\Users\\Administrator\\Downloads\\chromedriver_win32.zip\\chromedriver.exe')\n"
   ]
  },
  {
   "cell_type": "code",
   "execution_count": 71,
   "id": "1d97f47c",
   "metadata": {},
   "outputs": [],
   "source": [
    "driver.maximize_window()"
   ]
  },
  {
   "cell_type": "code",
   "execution_count": 72,
   "id": "7a696033",
   "metadata": {},
   "outputs": [],
   "source": [
    "url = 'https://www.google.com/maps/@28.5605888,77.398016,12z'\n",
    "driver.get(url)"
   ]
  },
  {
   "cell_type": "code",
   "execution_count": 75,
   "id": "331963d3",
   "metadata": {},
   "outputs": [],
   "source": [
    "search_loc = driver.find_element(By.XPATH,\"//input[@class='searchboxinput xiQnY']\")\n",
    "search_loc.send_keys(\"delhi\")"
   ]
  },
  {
   "cell_type": "code",
   "execution_count": 76,
   "id": "fb34a35c",
   "metadata": {},
   "outputs": [],
   "source": [
    "search_btn = driver.find_element(By.XPATH,\"//button[@class='mL3xi']\")\n",
    "search_btn.click()"
   ]
  },
  {
   "cell_type": "code",
   "execution_count": 81,
   "id": "da77f188",
   "metadata": {},
   "outputs": [
    {
     "name": "stdout",
     "output_type": "stream",
     "text": [
      "None\n"
     ]
    }
   ],
   "source": [
    "url =driver.find_elements(By.XPATH,\"//script[@src='/maps/_/js/k=maps.m.en.z265AeFDXAo.2019.O/m=sc2,per,mo,lp,ti,ds,stx,bom,b/am=uwCGQA/rt=j/d=1/rs=ACT90oEC2Bjx-RGMw2oB_Io4oGqgUSevsQ']\")\n",
    "for i in url:\n",
    "    \n",
    "    \n",
    "    print(i.get_attribute('href'))"
   ]
  },
  {
   "cell_type": "code",
   "execution_count": null,
   "id": "4cf52af6",
   "metadata": {},
   "outputs": [],
   "source": []
  }
 ],
 "metadata": {
  "kernelspec": {
   "display_name": "Python 3 (ipykernel)",
   "language": "python",
   "name": "python3"
  },
  "language_info": {
   "codemirror_mode": {
    "name": "ipython",
    "version": 3
   },
   "file_extension": ".py",
   "mimetype": "text/x-python",
   "name": "python",
   "nbconvert_exporter": "python",
   "pygments_lexer": "ipython3",
   "version": "3.9.12"
  }
 },
 "nbformat": 4,
 "nbformat_minor": 5
}
